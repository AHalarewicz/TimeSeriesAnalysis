{
 "cells": [
  {
   "cell_type": "code",
   "execution_count": 1,
   "metadata": {},
   "outputs": [
    {
     "name": "stderr",
     "output_type": "stream",
     "text": [
      "Using TensorFlow backend.\n"
     ]
    }
   ],
   "source": [
    "import pandas as pd\n",
    "import numpy as np\n",
    "from sklearn.model_selection import train_test_split\n",
    "from keras.layers import Dense\n",
    "#from keras.layers import LSTR\n",
    "from keras.models import Sequential\n",
    "from keras.models import load_model\n",
    "import matplotlib.pyplot as plt\n",
    "from sklearn.linear_model import SGDRegressor as SGD\n",
    "import joblib"
   ]
  },
  {
   "cell_type": "code",
   "execution_count": 5,
   "metadata": {},
   "outputs": [
    {
     "data": {
      "text/html": [
       "<div>\n",
       "<style scoped>\n",
       "    .dataframe tbody tr th:only-of-type {\n",
       "        vertical-align: middle;\n",
       "    }\n",
       "\n",
       "    .dataframe tbody tr th {\n",
       "        vertical-align: top;\n",
       "    }\n",
       "\n",
       "    .dataframe thead th {\n",
       "        text-align: right;\n",
       "    }\n",
       "</style>\n",
       "<table border=\"1\" class=\"dataframe\">\n",
       "  <thead>\n",
       "    <tr style=\"text-align: right;\">\n",
       "      <th></th>\n",
       "      <th>back_5</th>\n",
       "      <th>back_4</th>\n",
       "      <th>back_3</th>\n",
       "      <th>back_2</th>\n",
       "      <th>back_1</th>\n",
       "      <th>Adj Close</th>\n",
       "    </tr>\n",
       "    <tr>\n",
       "      <th>Date</th>\n",
       "      <th></th>\n",
       "      <th></th>\n",
       "      <th></th>\n",
       "      <th></th>\n",
       "      <th></th>\n",
       "      <th></th>\n",
       "    </tr>\n",
       "  </thead>\n",
       "  <tbody>\n",
       "    <tr>\n",
       "      <th>2004-08-19</th>\n",
       "      <td>NaN</td>\n",
       "      <td>NaN</td>\n",
       "      <td>NaN</td>\n",
       "      <td>NaN</td>\n",
       "      <td>NaN</td>\n",
       "      <td>0.076433</td>\n",
       "    </tr>\n",
       "    <tr>\n",
       "      <th>2004-08-20</th>\n",
       "      <td>NaN</td>\n",
       "      <td>NaN</td>\n",
       "      <td>NaN</td>\n",
       "      <td>NaN</td>\n",
       "      <td>0.076433</td>\n",
       "      <td>0.010013</td>\n",
       "    </tr>\n",
       "    <tr>\n",
       "      <th>2004-08-23</th>\n",
       "      <td>NaN</td>\n",
       "      <td>NaN</td>\n",
       "      <td>NaN</td>\n",
       "      <td>0.076433</td>\n",
       "      <td>0.010013</td>\n",
       "      <td>-0.042289</td>\n",
       "    </tr>\n",
       "    <tr>\n",
       "      <th>2004-08-24</th>\n",
       "      <td>NaN</td>\n",
       "      <td>NaN</td>\n",
       "      <td>0.076433</td>\n",
       "      <td>0.010013</td>\n",
       "      <td>-0.042289</td>\n",
       "      <td>0.010718</td>\n",
       "    </tr>\n",
       "    <tr>\n",
       "      <th>2004-08-25</th>\n",
       "      <td>NaN</td>\n",
       "      <td>0.076433</td>\n",
       "      <td>0.010013</td>\n",
       "      <td>-0.042289</td>\n",
       "      <td>0.010718</td>\n",
       "      <td>0.017858</td>\n",
       "    </tr>\n",
       "    <tr>\n",
       "      <th>...</th>\n",
       "      <td>...</td>\n",
       "      <td>...</td>\n",
       "      <td>...</td>\n",
       "      <td>...</td>\n",
       "      <td>...</td>\n",
       "      <td>...</td>\n",
       "    </tr>\n",
       "    <tr>\n",
       "      <th>2020-02-25</th>\n",
       "      <td>0.004609</td>\n",
       "      <td>-0.005609</td>\n",
       "      <td>-0.022004</td>\n",
       "      <td>-0.043713</td>\n",
       "      <td>-0.023588</td>\n",
       "      <td>0.003401</td>\n",
       "    </tr>\n",
       "    <tr>\n",
       "      <th>2020-02-26</th>\n",
       "      <td>-0.005609</td>\n",
       "      <td>-0.022004</td>\n",
       "      <td>-0.043713</td>\n",
       "      <td>-0.023588</td>\n",
       "      <td>0.003401</td>\n",
       "      <td>-0.055405</td>\n",
       "    </tr>\n",
       "    <tr>\n",
       "      <th>2020-02-27</th>\n",
       "      <td>-0.022004</td>\n",
       "      <td>-0.043713</td>\n",
       "      <td>-0.023588</td>\n",
       "      <td>0.003401</td>\n",
       "      <td>-0.055405</td>\n",
       "      <td>0.015986</td>\n",
       "    </tr>\n",
       "    <tr>\n",
       "      <th>2020-02-28</th>\n",
       "      <td>-0.043713</td>\n",
       "      <td>-0.023588</td>\n",
       "      <td>0.003401</td>\n",
       "      <td>-0.055405</td>\n",
       "      <td>0.015986</td>\n",
       "      <td>0.036494</td>\n",
       "    </tr>\n",
       "    <tr>\n",
       "      <th>2020-03-02</th>\n",
       "      <td>-0.023588</td>\n",
       "      <td>0.003401</td>\n",
       "      <td>-0.055405</td>\n",
       "      <td>0.015986</td>\n",
       "      <td>0.036494</td>\n",
       "      <td>-0.034957</td>\n",
       "    </tr>\n",
       "  </tbody>\n",
       "</table>\n",
       "<p>3910 rows × 6 columns</p>\n",
       "</div>"
      ],
      "text/plain": [
       "              back_5    back_4    back_3    back_2    back_1  Adj Close\n",
       "Date                                                                   \n",
       "2004-08-19       NaN       NaN       NaN       NaN       NaN   0.076433\n",
       "2004-08-20       NaN       NaN       NaN       NaN  0.076433   0.010013\n",
       "2004-08-23       NaN       NaN       NaN  0.076433  0.010013  -0.042289\n",
       "2004-08-24       NaN       NaN  0.076433  0.010013 -0.042289   0.010718\n",
       "2004-08-25       NaN  0.076433  0.010013 -0.042289  0.010718   0.017858\n",
       "...              ...       ...       ...       ...       ...        ...\n",
       "2020-02-25  0.004609 -0.005609 -0.022004 -0.043713 -0.023588   0.003401\n",
       "2020-02-26 -0.005609 -0.022004 -0.043713 -0.023588  0.003401  -0.055405\n",
       "2020-02-27 -0.022004 -0.043713 -0.023588  0.003401 -0.055405   0.015986\n",
       "2020-02-28 -0.043713 -0.023588  0.003401 -0.055405  0.015986   0.036494\n",
       "2020-03-02 -0.023588  0.003401 -0.055405  0.015986  0.036494  -0.034957\n",
       "\n",
       "[3910 rows x 6 columns]"
      ]
     },
     "execution_count": 5,
     "metadata": {},
     "output_type": "execute_result"
    }
   ],
   "source": [
    "time_series_df = pd.read_csv('../data/interim/time_series.csv', index_col='Date')\n",
    "time_series_df = time_series_df[:-10]\n",
    "time_series_df"
   ]
  },
  {
   "cell_type": "code",
   "execution_count": 6,
   "metadata": {
    "scrolled": true
   },
   "outputs": [
    {
     "name": "stdout",
     "output_type": "stream",
     "text": [
      "<class 'pandas.core.frame.DataFrame'>\n",
      "Index: 3910 entries, 2004-08-19 to 2020-03-02\n",
      "Data columns (total 6 columns):\n",
      " #   Column     Non-Null Count  Dtype  \n",
      "---  ------     --------------  -----  \n",
      " 0   back_5     3905 non-null   float64\n",
      " 1   back_4     3906 non-null   float64\n",
      " 2   back_3     3907 non-null   float64\n",
      " 3   back_2     3908 non-null   float64\n",
      " 4   back_1     3909 non-null   float64\n",
      " 5   Adj Close  3910 non-null   float64\n",
      "dtypes: float64(6)\n",
      "memory usage: 213.8+ KB\n"
     ]
    }
   ],
   "source": [
    "time_series_df.info()"
   ]
  },
  {
   "cell_type": "code",
   "execution_count": 7,
   "metadata": {},
   "outputs": [
    {
     "data": {
      "text/html": [
       "<div>\n",
       "<style scoped>\n",
       "    .dataframe tbody tr th:only-of-type {\n",
       "        vertical-align: middle;\n",
       "    }\n",
       "\n",
       "    .dataframe tbody tr th {\n",
       "        vertical-align: top;\n",
       "    }\n",
       "\n",
       "    .dataframe thead th {\n",
       "        text-align: right;\n",
       "    }\n",
       "</style>\n",
       "<table border=\"1\" class=\"dataframe\">\n",
       "  <thead>\n",
       "    <tr style=\"text-align: right;\">\n",
       "      <th></th>\n",
       "      <th>back_5</th>\n",
       "      <th>back_4</th>\n",
       "      <th>back_3</th>\n",
       "      <th>back_2</th>\n",
       "      <th>back_1</th>\n",
       "    </tr>\n",
       "    <tr>\n",
       "      <th>Date</th>\n",
       "      <th></th>\n",
       "      <th></th>\n",
       "      <th></th>\n",
       "      <th></th>\n",
       "      <th></th>\n",
       "    </tr>\n",
       "  </thead>\n",
       "  <tbody>\n",
       "    <tr>\n",
       "      <th>2020-03-02</th>\n",
       "      <td>-0.023588</td>\n",
       "      <td>0.003401</td>\n",
       "      <td>-0.055405</td>\n",
       "      <td>0.015986</td>\n",
       "      <td>0.036494</td>\n",
       "    </tr>\n",
       "  </tbody>\n",
       "</table>\n",
       "</div>"
      ],
      "text/plain": [
       "              back_5    back_4    back_3    back_2    back_1\n",
       "Date                                                        \n",
       "2020-03-02 -0.023588  0.003401 -0.055405  0.015986  0.036494"
      ]
     },
     "execution_count": 7,
     "metadata": {},
     "output_type": "execute_result"
    }
   ],
   "source": [
    "tomorrow = time_series_df.tail(1)\n",
    "tomorrows_predictors = tomorrow.iloc[:,:5]\n",
    "tomorrows_predictors"
   ]
  },
  {
   "cell_type": "code",
   "execution_count": 8,
   "metadata": {},
   "outputs": [
    {
     "name": "stdout",
     "output_type": "stream",
     "text": [
      "<class 'pandas.core.frame.DataFrame'>\n",
      "Index: 3905 entries, 2004-08-26 to 2020-03-02\n",
      "Data columns (total 6 columns):\n",
      " #   Column     Non-Null Count  Dtype  \n",
      "---  ------     --------------  -----  \n",
      " 0   back_5     3905 non-null   float64\n",
      " 1   back_4     3905 non-null   float64\n",
      " 2   back_3     3905 non-null   float64\n",
      " 3   back_2     3905 non-null   float64\n",
      " 4   back_1     3905 non-null   float64\n",
      " 5   Adj Close  3905 non-null   float64\n",
      "dtypes: float64(6)\n",
      "memory usage: 213.6+ KB\n"
     ]
    }
   ],
   "source": [
    "\n",
    "time_series_df = time_series_df.dropna()\n",
    "time_series_df.info()"
   ]
  },
  {
   "cell_type": "code",
   "execution_count": 9,
   "metadata": {},
   "outputs": [
    {
     "data": {
      "text/plain": [
       "numpy.ndarray"
      ]
     },
     "execution_count": 9,
     "metadata": {},
     "output_type": "execute_result"
    }
   ],
   "source": [
    "# create array of predictors\n",
    "predictors = time_series_df[['back_5', 'back_4', 'back_3', 'back_2', 'back_1']].values\n",
    "n_cols = predictors.shape[1]\n",
    "type(predictors)"
   ]
  },
  {
   "cell_type": "code",
   "execution_count": 10,
   "metadata": {},
   "outputs": [
    {
     "data": {
      "text/plain": [
       "numpy.ndarray"
      ]
     },
     "execution_count": 10,
     "metadata": {},
     "output_type": "execute_result"
    }
   ],
   "source": [
    "# create array of targets\n",
    "target = time_series_df[['Adj Close']].values\n",
    "type(target)"
   ]
  },
  {
   "cell_type": "code",
   "execution_count": 11,
   "metadata": {},
   "outputs": [],
   "source": [
    "X_train, X_test, y_train, y_test = train_test_split(predictors, target, test_size=0.3, random_state=21)"
   ]
  },
  {
   "cell_type": "code",
   "execution_count": 12,
   "metadata": {},
   "outputs": [
    {
     "name": "stdout",
     "output_type": "stream",
     "text": [
      "Model: \"sequential_1\"\n",
      "_________________________________________________________________\n",
      "Layer (type)                 Output Shape              Param #   \n",
      "=================================================================\n",
      "dense_1 (Dense)              (None, 100)               600       \n",
      "_________________________________________________________________\n",
      "dense_2 (Dense)              (None, 100)               10100     \n",
      "_________________________________________________________________\n",
      "dense_3 (Dense)              (None, 100)               10100     \n",
      "_________________________________________________________________\n",
      "dense_4 (Dense)              (None, 1)                 101       \n",
      "=================================================================\n",
      "Total params: 20,901\n",
      "Trainable params: 20,901\n",
      "Non-trainable params: 0\n",
      "_________________________________________________________________\n"
     ]
    }
   ],
   "source": [
    "#initialize a sequential keras model\n",
    "model = Sequential()\n",
    "\n",
    "# build three layers with 100 nodes each\n",
    "model.add(Dense(100, activation='relu', input_shape=(n_cols,)))\n",
    "model.add(Dense(100, activation='relu'))\n",
    "model.add(Dense(100, activation='relu'))\n",
    "\n",
    "# build final layer that will contain the output prediction\n",
    "model.add(Dense(1))\n",
    "\n",
    "# compile the model with ADAM\n",
    "# will adjust the learning rate as it does gradient descent\n",
    "# MSE loss function is best for regression problems\n",
    "model.compile(optimizer='adam', loss='mean_squared_error')\n",
    "\n",
    "# verify model structure\n",
    "model.summary()"
   ]
  },
  {
   "cell_type": "code",
   "execution_count": 13,
   "metadata": {},
   "outputs": [
    {
     "name": "stdout",
     "output_type": "stream",
     "text": [
      "Epoch 1/1\n",
      "2733/2733 [==============================] - 0s 151us/step - loss: 3.5082e-04\n"
     ]
    },
    {
     "data": {
      "text/plain": [
       "<keras.callbacks.callbacks.History at 0x78a5c437a890>"
      ]
     },
     "execution_count": 13,
     "metadata": {},
     "output_type": "execute_result"
    }
   ],
   "source": [
    " # fit the model\n",
    "# apply back propagation and gradient descent\n",
    "model.fit(X_train, y_train)"
   ]
  },
  {
   "cell_type": "code",
   "execution_count": 14,
   "metadata": {},
   "outputs": [
    {
     "name": "stdout",
     "output_type": "stream",
     "text": [
      "Model: \"sequential_1\"\n",
      "_________________________________________________________________\n",
      "Layer (type)                 Output Shape              Param #   \n",
      "=================================================================\n",
      "dense_1 (Dense)              (None, 100)               600       \n",
      "_________________________________________________________________\n",
      "dense_2 (Dense)              (None, 100)               10100     \n",
      "_________________________________________________________________\n",
      "dense_3 (Dense)              (None, 100)               10100     \n",
      "_________________________________________________________________\n",
      "dense_4 (Dense)              (None, 1)                 101       \n",
      "=================================================================\n",
      "Total params: 20,901\n",
      "Trainable params: 20,901\n",
      "Non-trainable params: 0\n",
      "_________________________________________________________________\n"
     ]
    }
   ],
   "source": [
    "# save and load model\n",
    "model.save('../models/keras.h5')\n",
    "model = load_model('../models/keras.h5')\n",
    "\n",
    "# verify model structure\n",
    "model.summary()"
   ]
  },
  {
   "cell_type": "code",
   "execution_count": 15,
   "metadata": {},
   "outputs": [],
   "source": [
    "predictions = model.predict(X_test)\n",
    "output = predictions\n",
    "predictions = np.exp(predictions)\n",
    "y_test_exp = np.exp(y_test)"
   ]
  },
  {
   "cell_type": "code",
   "execution_count": 16,
   "metadata": {},
   "outputs": [],
   "source": [
    "output = pd.DataFrame(output)\n",
    "output.to_csv('../data/interim/keras_dense_predictions.csv')"
   ]
  },
  {
   "cell_type": "code",
   "execution_count": 17,
   "metadata": {},
   "outputs": [],
   "source": [
    "scores = [53.964194, 45.865303, 53.878943, 53.793691]"
   ]
  },
  {
   "cell_type": "code",
   "execution_count": 18,
   "metadata": {
    "scrolled": true
   },
   "outputs": [
    {
     "name": "stdout",
     "output_type": "stream",
     "text": [
      "Predicting change in stock price with 52.815700% accuracy\n"
     ]
    }
   ],
   "source": [
    "#### this is very good\n",
    "\n",
    "def get_accuracy(y, pred):\n",
    "    \n",
    "    #scale and shift binary results\n",
    "    # -1 >> stock went down\n",
    "    # +1 >> stock increased or stayed the same\n",
    "    y = ((y>=1)*2)-1\n",
    "    pred = ((pred>=1)*2)-1\n",
    "    \n",
    "    # stocks move in the same direction when a_i*b_i is positive\n",
    "    accuracy = (np.sum((y*pred)>=0)/len(y))*100\n",
    "    \n",
    "    print(\"Predicting change in stock price with %f%s accuracy\" % (accuracy,'%'))\n",
    "    \n",
    "    return accuracy\n",
    "\n",
    "scores.append(get_accuracy(y_test_exp, predictions))"
   ]
  },
  {
   "cell_type": "markdown",
   "metadata": {},
   "source": [
    "# trading dates where COVID-19 affected stock market need to be excluded. if included, accuracy drops to ~48%"
   ]
  },
  {
   "cell_type": "code",
   "execution_count": 19,
   "metadata": {},
   "outputs": [
    {
     "data": {
      "text/plain": [
       "[53.964194, 45.865303, 53.878943, 53.793691, 52.815699658703075]"
      ]
     },
     "execution_count": 19,
     "metadata": {},
     "output_type": "execute_result"
    }
   ],
   "source": [
    "scores"
   ]
  },
  {
   "cell_type": "code",
   "execution_count": null,
   "metadata": {
    "scrolled": true
   },
   "outputs": [],
   "source": []
  },
  {
   "cell_type": "code",
   "execution_count": 20,
   "metadata": {},
   "outputs": [
    {
     "data": {
      "text/plain": [
       "(1084.3299560546877, 1087.0275289837011, True)"
      ]
     },
     "execution_count": 20,
     "metadata": {},
     "output_type": "execute_result"
    }
   ],
   "source": [
    "def predict_tomorrow():\n",
    "    X = tomorrows_predictors.values\n",
    "    prediction = model.predict(X)\n",
    "    prediction = np.exp(prediction)\n",
    "    adj_close = pd.read_csv('../data/raw/raw.csv', usecols=['Adj Close'], )\n",
    "    prices = adj_close.tail(1)\n",
    "    todays_price = float(prices.values[0])\n",
    "    tomorrows_price = float(todays_price) * float(prediction)\n",
    "    is_increase = bool(prediction>=1)\n",
    "    return todays_price, tomorrows_price, is_increase\n",
    "\n",
    "predict_tomorrow()\n",
    "    "
   ]
  },
  {
   "cell_type": "code",
   "execution_count": null,
   "metadata": {},
   "outputs": [],
   "source": [
    "\n"
   ]
  },
  {
   "cell_type": "code",
   "execution_count": null,
   "metadata": {},
   "outputs": [],
   "source": []
  },
  {
   "cell_type": "code",
   "execution_count": null,
   "metadata": {},
   "outputs": [],
   "source": []
  },
  {
   "cell_type": "code",
   "execution_count": null,
   "metadata": {},
   "outputs": [],
   "source": []
  },
  {
   "cell_type": "code",
   "execution_count": null,
   "metadata": {},
   "outputs": [],
   "source": []
  },
  {
   "cell_type": "code",
   "execution_count": null,
   "metadata": {},
   "outputs": [],
   "source": []
  },
  {
   "cell_type": "code",
   "execution_count": null,
   "metadata": {},
   "outputs": [],
   "source": []
  },
  {
   "cell_type": "code",
   "execution_count": null,
   "metadata": {},
   "outputs": [],
   "source": []
  },
  {
   "cell_type": "code",
   "execution_count": null,
   "metadata": {},
   "outputs": [],
   "source": []
  },
  {
   "cell_type": "code",
   "execution_count": null,
   "metadata": {},
   "outputs": [],
   "source": []
  },
  {
   "cell_type": "code",
   "execution_count": 15,
   "metadata": {},
   "outputs": [
    {
     "data": {
      "text/plain": [
       "(0.9923569, 0.9992936)"
      ]
     },
     "execution_count": 15,
     "metadata": {},
     "output_type": "execute_result"
    }
   ],
   "source": [
    "def revert_data(predictions):\n",
    "    \n",
    "    # undo scale\n",
    "    #scaler = joblib.load('../models/MinMaxScaler.save')\n",
    "    #unscaled_deltas = scaler.inverse_transform(predictions)\n",
    "    \n",
    "    # undo log\n",
    "    #inv_log = np.exp(unscaled_deltas)\n",
    "    inv_log = np.exp(predictions)\n",
    "    \n",
    "    return inv_log\n",
    "x = revert_data(predictions)\n",
    "(x.min(), x.max())"
   ]
  },
  {
   "cell_type": "code",
   "execution_count": 25,
   "metadata": {},
   "outputs": [
    {
     "data": {
      "text/plain": [
       "array([[ 0.12417709, -0.08672323,  0.88525218],\n",
       "       [-0.12340155,  0.1822511 , -0.73470684]])"
      ]
     },
     "execution_count": 25,
     "metadata": {},
     "output_type": "execute_result"
    }
   ],
   "source": [
    "\n",
    "scaler = joblib.load('../models/MinMaxScaler.save')\n",
    "unscaled_deltas = scaler.inverse_transform(predictions)\n",
    "unscaled_deltas\n",
    "\n",
    "scaler.inverse_transform([[0.81, 0.12, 3.3], [0,1, -2]])"
   ]
  },
  {
   "cell_type": "code",
   "execution_count": 26,
   "metadata": {},
   "outputs": [
    {
     "data": {
      "text/plain": [
       "array([[ 8.09999986e-01,  1.20000001e-01,  3.30000000e+00],\n",
       "       [-7.64619668e-09,  1.00000001e+00, -2.00000001e+00]])"
      ]
     },
     "execution_count": 26,
     "metadata": {},
     "output_type": "execute_result"
    }
   ],
   "source": [
    "x1 = np.array([[ 0.12417709, -0.08672323,  0.88525218],[-0.12340155,  0.1822511 , -0.73470684]])\n",
    "scaler.transform(x1)"
   ]
  },
  {
   "cell_type": "code",
   "execution_count": 15,
   "metadata": {},
   "outputs": [
    {
     "data": {
      "text/plain": [
       "array([[1.5125663],\n",
       "       [1.4969895],\n",
       "       [1.5091519],\n",
       "       ...,\n",
       "       [1.4781057],\n",
       "       [1.5097255],\n",
       "       [1.5126888]], dtype=float32)"
      ]
     },
     "execution_count": 15,
     "metadata": {},
     "output_type": "execute_result"
    }
   ],
   "source": [
    "inv_log = np.exp(predictions)\n",
    "inv_log"
   ]
  },
  {
   "cell_type": "code",
   "execution_count": 21,
   "metadata": {},
   "outputs": [
    {
     "data": {
      "text/plain": [
       "(1.3813076, 1.7587633)"
      ]
     },
     "execution_count": 21,
     "metadata": {},
     "output_type": "execute_result"
    }
   ],
   "source": [
    "inv_log.min(), inv_log.max()"
   ]
  },
  {
   "cell_type": "code",
   "execution_count": null,
   "metadata": {},
   "outputs": [],
   "source": []
  },
  {
   "cell_type": "code",
   "execution_count": 16,
   "metadata": {},
   "outputs": [
    {
     "data": {
      "image/png": "[encoded data removed]",
      "text/plain": [
       "<Figure size 1008x504 with 1 Axes>"
      ]
     },
     "metadata": {
      "needs_background": "light"
     },
     "output_type": "display_data"
    }
   ],
   "source": [
    "_ = plt.figure(figsize=(14,7))\n",
    "_ = plt.plot(predictions, linestyle='None', marker='.')\n",
    "plt.show()"
   ]
  },
  {
   "cell_type": "code",
   "execution_count": 17,
   "metadata": {},
   "outputs": [],
   "source": [
    "def get_Dense_model(input_shape):\n",
    "    #initialize a sequential keras model\n",
    "    model = Sequential()\n",
    "\n",
    "    # build three layers with 100 nodes each\n",
    "    model.add(Dense(100, activation='relu', input_shape=input_shape))\n",
    "    model.add(Dense(100, activation='relu'))\n",
    "    model.add(Dense(100, activation='relu'))\n",
    "\n",
    "    # build final layer that will contain the output prediction\n",
    "    model.add(Dense(1))"
   ]
  },
  {
   "cell_type": "code",
   "execution_count": null,
   "metadata": {},
   "outputs": [],
   "source": [
    "def get_LSTR_model(input_shape):\n",
    "    # Matt and Druv's architecture\n",
    "    #initialize a sequential keras model\n",
    "    model = Sequential()\n",
    "\n",
    "    # build three layers with 100 nodes each\n",
    "    model.add(LSTR(50, return_sequence=True, input_shape=input_shape))\n",
    "    model.add(LSTR(50, return_sequence=True)\n",
    "    model.add(LSTR(50))\n",
    "\n",
    "    # build final layer that will contain the output prediction\n",
    "    model.add(Dense(1))\n",
    "    \n",
    "    mode.complile(loss='mse', optimizer='adam')\n",
    "    \n",
    "              "
   ]
  },
  {
   "cell_type": "code",
   "execution_count": 18,
   "metadata": {},
   "outputs": [
    {
     "ename": "TypeError",
     "evalue": "__init__() got an unexpected keyword argument 'lr'",
     "output_type": "error",
     "traceback": [
      "\u001b[0;31m---------------------------------------------------------------------------\u001b[0m",
      "\u001b[0;31mTypeError\u001b[0m                                 Traceback (most recent call last)",
      "\u001b[0;32m<ipython-input-18-c41f357ec052>\u001b[0m in \u001b[0;36m<module>\u001b[0;34m\u001b[0m\n\u001b[1;32m      7\u001b[0m \u001b[0;34m\u001b[0m\u001b[0m\n\u001b[1;32m      8\u001b[0m     \u001b[0;31m# use Stochastic Gradient Descent\u001b[0m\u001b[0;34m\u001b[0m\u001b[0;34m\u001b[0m\u001b[0;34m\u001b[0m\u001b[0m\n\u001b[0;32m----> 9\u001b[0;31m     \u001b[0moptimizer\u001b[0m \u001b[0;34m=\u001b[0m \u001b[0mSGD\u001b[0m\u001b[0;34m(\u001b[0m\u001b[0mlr\u001b[0m\u001b[0;34m=\u001b[0m\u001b[0mlr\u001b[0m\u001b[0;34m)\u001b[0m\u001b[0;34m\u001b[0m\u001b[0;34m\u001b[0m\u001b[0m\n\u001b[0m\u001b[1;32m     10\u001b[0m \u001b[0;34m\u001b[0m\u001b[0m\n\u001b[1;32m     11\u001b[0m     \u001b[0mmodel\u001b[0m\u001b[0;34m.\u001b[0m\u001b[0mcompile\u001b[0m\u001b[0;34m(\u001b[0m\u001b[0moptimizer\u001b[0m\u001b[0;34m=\u001b[0m\u001b[0moptimizer\u001b[0m\u001b[0;34m,\u001b[0m \u001b[0mloss\u001b[0m\u001b[0;34m=\u001b[0m\u001b[0;34m'mean_squared_error'\u001b[0m\u001b[0;34m)\u001b[0m\u001b[0;34m\u001b[0m\u001b[0;34m\u001b[0m\u001b[0m\n",
      "\u001b[0;31mTypeError\u001b[0m: __init__() got an unexpected keyword argument 'lr'"
     ]
    }
   ],
   "source": [
    "lr_to_test = [0.00001, 0.01, 1]\n",
    "input_shape = (n_cols,)\n",
    "\n",
    "# loop over learning rates\n",
    "for lr in lr_to_test:\n",
    "    model = get_new_model(input_shape)\n",
    "    \n",
    "    # use Stochastic Gradient Descent\n",
    "    optimizer = SGD(lr=lr)\n",
    "    \n",
    "    model.compile(optimizer=optimizer, loss='mean_squared_error')\n",
    "    \n",
    "    model.fit(X_train, y_train)\n",
    "    \n",
    "    predictions = model.predict(X_test)\n",
    "    \n",
    "    mse = sum((predictions - y_test)**2)\n",
    "    \n",
    "    print(lr, mse)"
   ]
  },
  {
   "cell_type": "code",
   "execution_count": null,
   "metadata": {},
   "outputs": [],
   "source": []
  }
 ],
 "metadata": {
  "kernelspec": {
   "display_name": "Python 3",
   "language": "python",
   "name": "python3"
  },
  "language_info": {
   "codemirror_mode": {
    "name": "ipython",
    "version": 3
   },
   "file_extension": ".py",
   "mimetype": "text/x-python",
   "name": "python",
   "nbconvert_exporter": "python",
   "pygments_lexer": "ipython3",
   "version": "3.7.6"
  }
 },
 "nbformat": 4,
 "nbformat_minor": 4
}
