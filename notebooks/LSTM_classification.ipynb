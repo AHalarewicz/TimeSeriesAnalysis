{
 "cells": [
  {
   "cell_type": "code",
   "execution_count": 1,
   "metadata": {},
   "outputs": [
    {
     "name": "stderr",
     "output_type": "stream",
     "text": [
      "Using TensorFlow backend.\n"
     ]
    }
   ],
   "source": [
    "import pandas as pd\n",
    "import numpy as np\n",
    "import matplotlib.pyplot as plt\n",
    "import keras as keras\n",
    "from keras.models import Sequential, load_model\n",
    "from keras.layers import Dense, LSTM\n",
    "from sklearn.preprocessing import MinMaxScaler\n",
    "from sklearn.model_selection import train_test_split"
   ]
  },
  {
   "cell_type": "markdown",
   "metadata": {},
   "source": [
    "# Define Functions"
   ]
  },
  {
   "cell_type": "code",
   "execution_count": 2,
   "metadata": {},
   "outputs": [],
   "source": [
    "def read_data(file):\n",
    "    \"\"\"\n",
    "    Read csv data from the specified file location.\n",
    "    \"\"\"\n",
    "    df = pd.read_csv(file, index_col='Date')\n",
    "    return df"
   ]
  },
  {
   "cell_type": "code",
   "execution_count": 3,
   "metadata": {},
   "outputs": [],
   "source": [
    "def clip_recent_days(df, n_days):\n",
    "    \"\"\"\n",
    "    -- optional --\n",
    "    remove recent days from data frame\n",
    "    \"\"\"\n",
    "    return(df[:-n_days])"
   ]
  },
  {
   "cell_type": "code",
   "execution_count": 4,
   "metadata": {},
   "outputs": [],
   "source": [
    "def format_predictors_and_targets(df):\n",
    "    \n",
    "    \"\"\"\n",
    "    params: DataFrame with Predictors and Targets\n",
    "    \n",
    "    drop empty rows and prepare targets and predictors\n",
    "    \n",
    "    returns: formatted predictors, targets, and number of predictor columns\n",
    "    \n",
    "    \"\"\"\n",
    "    \n",
    "    #drop rows with missing values\n",
    "    df = df.dropna()\n",
    "    \n",
    "    # Extract Predictors\n",
    "    predictors = df[['back_5', 'back_4', 'back_3', 'back_2', 'back_1']].values\n",
    "    assert type(predictors) is np.ndarray\n",
    "    \n",
    "    # count number of predictive columns\n",
    "    n_cols = predictors.shape[1]\n",
    "    \n",
    "    # extract target\n",
    "    targets = df[['Adj Close']].values\n",
    "    assert type(targets) is np.ndarray\n",
    "    \n",
    "    return predictors, targets, n_cols"
   ]
  },
  {
   "cell_type": "code",
   "execution_count": 5,
   "metadata": {},
   "outputs": [],
   "source": [
    "# DEFINE DATA CONSTANTS\n",
    "TEST_SIZE = 0.20"
   ]
  },
  {
   "cell_type": "code",
   "execution_count": 6,
   "metadata": {},
   "outputs": [],
   "source": [
    "# specify location of time series data\n",
    "file_path = '../data/interim/time_series.csv'"
   ]
  },
  {
   "cell_type": "code",
   "execution_count": 7,
   "metadata": {
    "scrolled": true
   },
   "outputs": [
    {
     "data": {
      "text/html": [
       "<div>\n",
       "<style scoped>\n",
       "    .dataframe tbody tr th:only-of-type {\n",
       "        vertical-align: middle;\n",
       "    }\n",
       "\n",
       "    .dataframe tbody tr th {\n",
       "        vertical-align: top;\n",
       "    }\n",
       "\n",
       "    .dataframe thead th {\n",
       "        text-align: right;\n",
       "    }\n",
       "</style>\n",
       "<table border=\"1\" class=\"dataframe\">\n",
       "  <thead>\n",
       "    <tr style=\"text-align: right;\">\n",
       "      <th></th>\n",
       "      <th>back_5</th>\n",
       "      <th>back_4</th>\n",
       "      <th>back_3</th>\n",
       "      <th>back_2</th>\n",
       "      <th>back_1</th>\n",
       "      <th>Adj Close</th>\n",
       "    </tr>\n",
       "    <tr>\n",
       "      <th>Date</th>\n",
       "      <th></th>\n",
       "      <th></th>\n",
       "      <th></th>\n",
       "      <th></th>\n",
       "      <th></th>\n",
       "      <th></th>\n",
       "    </tr>\n",
       "  </thead>\n",
       "  <tbody>\n",
       "    <tr>\n",
       "      <th>1980-03-17</th>\n",
       "      <td>NaN</td>\n",
       "      <td>NaN</td>\n",
       "      <td>NaN</td>\n",
       "      <td>NaN</td>\n",
       "      <td>NaN</td>\n",
       "      <td>0.007326</td>\n",
       "    </tr>\n",
       "    <tr>\n",
       "      <th>1980-03-18</th>\n",
       "      <td>NaN</td>\n",
       "      <td>NaN</td>\n",
       "      <td>NaN</td>\n",
       "      <td>NaN</td>\n",
       "      <td>0.007326</td>\n",
       "      <td>0.014493</td>\n",
       "    </tr>\n",
       "    <tr>\n",
       "      <th>1980-03-19</th>\n",
       "      <td>NaN</td>\n",
       "      <td>NaN</td>\n",
       "      <td>NaN</td>\n",
       "      <td>0.007326</td>\n",
       "      <td>0.014493</td>\n",
       "      <td>-0.007220</td>\n",
       "    </tr>\n",
       "    <tr>\n",
       "      <th>1980-03-20</th>\n",
       "      <td>NaN</td>\n",
       "      <td>NaN</td>\n",
       "      <td>0.007326</td>\n",
       "      <td>0.014493</td>\n",
       "      <td>-0.007220</td>\n",
       "      <td>0.021506</td>\n",
       "    </tr>\n",
       "    <tr>\n",
       "      <th>1980-03-21</th>\n",
       "      <td>NaN</td>\n",
       "      <td>0.007326</td>\n",
       "      <td>0.014493</td>\n",
       "      <td>-0.007220</td>\n",
       "      <td>0.021506</td>\n",
       "      <td>-0.025136</td>\n",
       "    </tr>\n",
       "    <tr>\n",
       "      <th>...</th>\n",
       "      <td>...</td>\n",
       "      <td>...</td>\n",
       "      <td>...</td>\n",
       "      <td>...</td>\n",
       "      <td>...</td>\n",
       "      <td>...</td>\n",
       "    </tr>\n",
       "    <tr>\n",
       "      <th>2020-04-13</th>\n",
       "      <td>0.062380</td>\n",
       "      <td>0.013104</td>\n",
       "      <td>0.039586</td>\n",
       "      <td>0.085915</td>\n",
       "      <td>-0.045492</td>\n",
       "      <td>-0.027778</td>\n",
       "    </tr>\n",
       "    <tr>\n",
       "      <th>2020-04-14</th>\n",
       "      <td>0.013104</td>\n",
       "      <td>0.039586</td>\n",
       "      <td>0.085915</td>\n",
       "      <td>-0.045492</td>\n",
       "      <td>-0.027778</td>\n",
       "      <td>-0.050577</td>\n",
       "    </tr>\n",
       "    <tr>\n",
       "      <th>2020-04-15</th>\n",
       "      <td>0.039586</td>\n",
       "      <td>0.085915</td>\n",
       "      <td>-0.045492</td>\n",
       "      <td>-0.027778</td>\n",
       "      <td>-0.050577</td>\n",
       "      <td>-0.038855</td>\n",
       "    </tr>\n",
       "    <tr>\n",
       "      <th>2020-04-16</th>\n",
       "      <td>0.085915</td>\n",
       "      <td>-0.045492</td>\n",
       "      <td>-0.027778</td>\n",
       "      <td>-0.050577</td>\n",
       "      <td>-0.038855</td>\n",
       "      <td>0.086076</td>\n",
       "    </tr>\n",
       "    <tr>\n",
       "      <th>2020-04-17</th>\n",
       "      <td>-0.045492</td>\n",
       "      <td>-0.027778</td>\n",
       "      <td>-0.050577</td>\n",
       "      <td>-0.038855</td>\n",
       "      <td>0.086076</td>\n",
       "      <td>NaN</td>\n",
       "    </tr>\n",
       "  </tbody>\n",
       "</table>\n",
       "<p>10109 rows × 6 columns</p>\n",
       "</div>"
      ],
      "text/plain": [
       "              back_5    back_4    back_3    back_2    back_1  Adj Close\n",
       "Date                                                                   \n",
       "1980-03-17       NaN       NaN       NaN       NaN       NaN   0.007326\n",
       "1980-03-18       NaN       NaN       NaN       NaN  0.007326   0.014493\n",
       "1980-03-19       NaN       NaN       NaN  0.007326  0.014493  -0.007220\n",
       "1980-03-20       NaN       NaN  0.007326  0.014493 -0.007220   0.021506\n",
       "1980-03-21       NaN  0.007326  0.014493 -0.007220  0.021506  -0.025136\n",
       "...              ...       ...       ...       ...       ...        ...\n",
       "2020-04-13  0.062380  0.013104  0.039586  0.085915 -0.045492  -0.027778\n",
       "2020-04-14  0.013104  0.039586  0.085915 -0.045492 -0.027778  -0.050577\n",
       "2020-04-15  0.039586  0.085915 -0.045492 -0.027778 -0.050577  -0.038855\n",
       "2020-04-16  0.085915 -0.045492 -0.027778 -0.050577 -0.038855   0.086076\n",
       "2020-04-17 -0.045492 -0.027778 -0.050577 -0.038855  0.086076        NaN\n",
       "\n",
       "[10109 rows x 6 columns]"
      ]
     },
     "execution_count": 7,
     "metadata": {},
     "output_type": "execute_result"
    }
   ],
   "source": [
    "# read time series data\n",
    "time_series_df = read_data(file_path)\n",
    "time_series_df"
   ]
  },
  {
   "cell_type": "code",
   "execution_count": 8,
   "metadata": {},
   "outputs": [
    {
     "data": {
      "text/html": [
       "<div>\n",
       "<style scoped>\n",
       "    .dataframe tbody tr th:only-of-type {\n",
       "        vertical-align: middle;\n",
       "    }\n",
       "\n",
       "    .dataframe tbody tr th {\n",
       "        vertical-align: top;\n",
       "    }\n",
       "\n",
       "    .dataframe thead th {\n",
       "        text-align: right;\n",
       "    }\n",
       "</style>\n",
       "<table border=\"1\" class=\"dataframe\">\n",
       "  <thead>\n",
       "    <tr style=\"text-align: right;\">\n",
       "      <th></th>\n",
       "      <th>back_5</th>\n",
       "      <th>back_4</th>\n",
       "      <th>back_3</th>\n",
       "      <th>back_2</th>\n",
       "      <th>back_1</th>\n",
       "      <th>Adj Close</th>\n",
       "    </tr>\n",
       "  </thead>\n",
       "  <tbody>\n",
       "    <tr>\n",
       "      <th>count</th>\n",
       "      <td>10104.000000</td>\n",
       "      <td>10105.000000</td>\n",
       "      <td>10106.000000</td>\n",
       "      <td>10107.000000</td>\n",
       "      <td>10108.000000</td>\n",
       "      <td>10109.000000</td>\n",
       "    </tr>\n",
       "    <tr>\n",
       "      <th>mean</th>\n",
       "      <td>0.000576</td>\n",
       "      <td>0.000573</td>\n",
       "      <td>0.000568</td>\n",
       "      <td>0.000565</td>\n",
       "      <td>0.000573</td>\n",
       "      <td>0.531111</td>\n",
       "    </tr>\n",
       "    <tr>\n",
       "      <th>std</th>\n",
       "      <td>0.022785</td>\n",
       "      <td>0.022785</td>\n",
       "      <td>0.022790</td>\n",
       "      <td>0.022792</td>\n",
       "      <td>0.022807</td>\n",
       "      <td>0.499056</td>\n",
       "    </tr>\n",
       "    <tr>\n",
       "      <th>min</th>\n",
       "      <td>-0.324614</td>\n",
       "      <td>-0.324614</td>\n",
       "      <td>-0.324614</td>\n",
       "      <td>-0.324614</td>\n",
       "      <td>-0.324614</td>\n",
       "      <td>0.000000</td>\n",
       "    </tr>\n",
       "    <tr>\n",
       "      <th>25%</th>\n",
       "      <td>-0.009636</td>\n",
       "      <td>-0.009638</td>\n",
       "      <td>-0.009656</td>\n",
       "      <td>-0.009661</td>\n",
       "      <td>-0.009661</td>\n",
       "      <td>0.000000</td>\n",
       "    </tr>\n",
       "    <tr>\n",
       "      <th>50%</th>\n",
       "      <td>0.000000</td>\n",
       "      <td>0.000000</td>\n",
       "      <td>0.000000</td>\n",
       "      <td>0.000000</td>\n",
       "      <td>0.000000</td>\n",
       "      <td>1.000000</td>\n",
       "    </tr>\n",
       "    <tr>\n",
       "      <th>75%</th>\n",
       "      <td>0.010521</td>\n",
       "      <td>0.010520</td>\n",
       "      <td>0.010517</td>\n",
       "      <td>0.010514</td>\n",
       "      <td>0.010521</td>\n",
       "      <td>1.000000</td>\n",
       "    </tr>\n",
       "    <tr>\n",
       "      <th>max</th>\n",
       "      <td>0.223917</td>\n",
       "      <td>0.223917</td>\n",
       "      <td>0.223917</td>\n",
       "      <td>0.223917</td>\n",
       "      <td>0.223917</td>\n",
       "      <td>1.000000</td>\n",
       "    </tr>\n",
       "  </tbody>\n",
       "</table>\n",
       "</div>"
      ],
      "text/plain": [
       "             back_5        back_4        back_3        back_2        back_1  \\\n",
       "count  10104.000000  10105.000000  10106.000000  10107.000000  10108.000000   \n",
       "mean       0.000576      0.000573      0.000568      0.000565      0.000573   \n",
       "std        0.022785      0.022785      0.022790      0.022792      0.022807   \n",
       "min       -0.324614     -0.324614     -0.324614     -0.324614     -0.324614   \n",
       "25%       -0.009636     -0.009638     -0.009656     -0.009661     -0.009661   \n",
       "50%        0.000000      0.000000      0.000000      0.000000      0.000000   \n",
       "75%        0.010521      0.010520      0.010517      0.010514      0.010521   \n",
       "max        0.223917      0.223917      0.223917      0.223917      0.223917   \n",
       "\n",
       "          Adj Close  \n",
       "count  10109.000000  \n",
       "mean       0.531111  \n",
       "std        0.499056  \n",
       "min        0.000000  \n",
       "25%        0.000000  \n",
       "50%        1.000000  \n",
       "75%        1.000000  \n",
       "max        1.000000  "
      ]
     },
     "execution_count": 8,
     "metadata": {},
     "output_type": "execute_result"
    }
   ],
   "source": [
    "time_series_df['Adj Close'] = (time_series_df['Adj Close']>=0.0)*1\n",
    "time_series_df.describe()"
   ]
  },
  {
   "cell_type": "code",
   "execution_count": 9,
   "metadata": {},
   "outputs": [
    {
     "name": "stdout",
     "output_type": "stream",
     "text": [
      "<class 'pandas.core.frame.DataFrame'>\n",
      "Index: 10109 entries, 1980-03-17 to 2020-04-17\n",
      "Data columns (total 6 columns):\n",
      " #   Column     Non-Null Count  Dtype  \n",
      "---  ------     --------------  -----  \n",
      " 0   back_5     10104 non-null  float64\n",
      " 1   back_4     10105 non-null  float64\n",
      " 2   back_3     10106 non-null  float64\n",
      " 3   back_2     10107 non-null  float64\n",
      " 4   back_1     10108 non-null  float64\n",
      " 5   Adj Close  10109 non-null  int64  \n",
      "dtypes: float64(5), int64(1)\n",
      "memory usage: 552.8+ KB\n"
     ]
    }
   ],
   "source": [
    "# Inspect columns missing values\n",
    "time_series_df.info()"
   ]
  },
  {
   "cell_type": "code",
   "execution_count": 10,
   "metadata": {},
   "outputs": [],
   "source": [
    "# extract last row to predict tomorrow's change\n",
    "tomorrow = time_series_df.iloc[[-1]].fillna(0)\n",
    "\n",
    "# call function to format predictors and targets\n",
    "tomorrow, _ , _ = format_predictors_and_targets(tomorrow)\n",
    "predictors, targets, n_cols = format_predictors_and_targets(time_series_df)\n"
   ]
  },
  {
   "cell_type": "code",
   "execution_count": 11,
   "metadata": {},
   "outputs": [],
   "source": [
    "# scale data to range [0,1]\n",
    "\n",
    "# create scaler objects\n",
    "X_scaler = MinMaxScaler(feature_range=(0,1))\n",
    "y_scaler = MinMaxScaler(feature_range=(0,1))\n",
    "\n",
    "# fit respective scalers to data\n",
    "predictors = X_scaler.fit_transform(predictors)\n",
    "tomorrow = X_scaler.transform(tomorrow)\n",
    "targets = y_scaler.fit_transform(targets)\n"
   ]
  },
  {
   "cell_type": "code",
   "execution_count": 12,
   "metadata": {},
   "outputs": [],
   "source": [
    "# test for correct scaling\n",
    "assert min(predictors.flatten()) == 0\n",
    "assert max(predictors.flatten()) == 1\n",
    "assert min(targets.flatten()) == 0\n",
    "assert max(targets.flatten()) == 1"
   ]
  },
  {
   "cell_type": "code",
   "execution_count": 13,
   "metadata": {},
   "outputs": [],
   "source": [
    "# split data into training set and testing set\n",
    "# SHUFFLE = FALSE\n",
    "X_train, X_test, y_train, y_test = train_test_split(predictors, targets, test_size=TEST_SIZE, shuffle=False, stratify=None, random_state=1)"
   ]
  },
  {
   "cell_type": "markdown",
   "metadata": {},
   "source": [
    "# test for sequential split\n",
    "assert np.argwhere(predictors == X_train[-1])[0][0] == (np.argwhere(predictors == X_test[0])[0][0]) -1\n",
    "assert np.argwhere(predictors == y_train[-1])[0][0] == (np.argwhere(predictors == y_test[0])[0][0]) -1"
   ]
  },
  {
   "cell_type": "code",
   "execution_count": 14,
   "metadata": {},
   "outputs": [
    {
     "data": {
      "text/plain": [
       "2021"
      ]
     },
     "execution_count": 14,
     "metadata": {},
     "output_type": "execute_result"
    }
   ],
   "source": [
    "# how many days of stock data are in the test set?\n",
    "len(y_test)"
   ]
  },
  {
   "cell_type": "code",
   "execution_count": 15,
   "metadata": {},
   "outputs": [],
   "source": [
    "# re-shape predictors for keras model\n",
    "tomorrow = np.reshape(tomorrow, (1, 1, tomorrow.shape[1]))\n",
    "X_train = np.reshape(X_train, (X_train.shape[0], 1, X_train.shape[1]))\n",
    "X_test = np.reshape(X_test, (X_test.shape[0], 1, X_test.shape[1]))\n",
    "\n",
    "assert X_train.shape[1:] == tomorrow.shape[1:]"
   ]
  },
  {
   "cell_type": "code",
   "execution_count": 16,
   "metadata": {},
   "outputs": [],
   "source": [
    "def build_sequential_LSTM(n_nodes, n_layers, add_dense):\n",
    "    \n",
    "    \"\"\"\n",
    "    Params: number of nodes in layers, number of LSTM layers, option to add Dense Layer\n",
    "    \n",
    "    Build a Sequential keras model with LSTM and optional Dense Layers\n",
    "    \n",
    "    Returns: Keras model with LSTM layers with minimum of 2 LSTM layers\n",
    "    \n",
    "    \"\"\"\n",
    "    \n",
    "    # create Sequential model object\n",
    "    model = Sequential()\n",
    "    \n",
    "    # add initial LSTM Layer\n",
    "    model.add(LSTM(n_nodes, return_sequences=True, input_shape=X_train.shape[1:]))\n",
    "    \n",
    "\n",
    "    # add specified amount of additional LSTM layers\n",
    "    for i in range(n_layers-2):\n",
    "        model.add(LSTM(n_nodes, return_sequences=True))\n",
    "    \n",
    "    #return_sequences = False if next layer is not LSTM\n",
    "    model.add(LSTM(n_nodes, return_sequences=False))\n",
    "    \n",
    "    \n",
    "    if add_dense:\n",
    "        # add optional Fully Connected Layer\n",
    "        model.add(Dense(n_nodes, activation='relu'))\n",
    "        \n",
    "    # add Dense layer to produce output\n",
    "    model.add(Dense(1))\n",
    "    \n",
    "    # compile model\n",
    "    model.compile(optimizer='adam', loss='mean_squared_error')\n",
    "    \n",
    "    return model"
   ]
  },
  {
   "cell_type": "code",
   "execution_count": 17,
   "metadata": {},
   "outputs": [],
   "source": [
    "# DEFINE MODEL CONSTANTS\n",
    "N_NODES = 100\n",
    "N_LAYERS = 3\n",
    "ADD_DENSE = True"
   ]
  },
  {
   "cell_type": "code",
   "execution_count": 18,
   "metadata": {
    "scrolled": true
   },
   "outputs": [
    {
     "name": "stdout",
     "output_type": "stream",
     "text": [
      "Model: \"sequential_1\"\n",
      "_________________________________________________________________\n",
      "Layer (type)                 Output Shape              Param #   \n",
      "=================================================================\n",
      "lstm_1 (LSTM)                (None, 1, 100)            42400     \n",
      "_________________________________________________________________\n",
      "lstm_2 (LSTM)                (None, 1, 100)            80400     \n",
      "_________________________________________________________________\n",
      "lstm_3 (LSTM)                (None, 100)               80400     \n",
      "_________________________________________________________________\n",
      "dense_1 (Dense)              (None, 100)               10100     \n",
      "_________________________________________________________________\n",
      "dense_2 (Dense)              (None, 1)                 101       \n",
      "=================================================================\n",
      "Total params: 213,401\n",
      "Trainable params: 213,401\n",
      "Non-trainable params: 0\n",
      "_________________________________________________________________\n"
     ]
    }
   ],
   "source": [
    "# build Sequential Model\n",
    "model = build_sequential_LSTM(N_NODES, N_LAYERS, ADD_DENSE)\n",
    "model.summary()"
   ]
  },
  {
   "cell_type": "code",
   "execution_count": 19,
   "metadata": {},
   "outputs": [],
   "source": [
    "# DEFINE TRAINING CONSTANTS\n",
    "EPOCHS = 1"
   ]
  },
  {
   "cell_type": "code",
   "execution_count": 20,
   "metadata": {},
   "outputs": [
    {
     "name": "stdout",
     "output_type": "stream",
     "text": [
      "Epoch 1/1\n",
      "8083/8083 [==============================] - 5s 625us/step - loss: 0.2632\n"
     ]
    },
    {
     "data": {
      "text/plain": [
       "<keras.callbacks.callbacks.History at 0x7a59e83fab90>"
      ]
     },
     "execution_count": 20,
     "metadata": {},
     "output_type": "execute_result"
    }
   ],
   "source": [
    "# fit model to training data\n",
    "model.fit(X_train, y_train, epochs=EPOCHS)"
   ]
  },
  {
   "cell_type": "code",
   "execution_count": null,
   "metadata": {},
   "outputs": [],
   "source": []
  },
  {
   "cell_type": "code",
   "execution_count": 21,
   "metadata": {},
   "outputs": [
    {
     "name": "stdout",
     "output_type": "stream",
     "text": [
      "Buy Stock:  [[False]]\n"
     ]
    }
   ],
   "source": [
    "# Make Predictions\n",
    "predictions = model.predict(X_test)\n",
    "tomorrows_prediction = model.predict(tomorrow)\n",
    "print(\"Buy Stock: \", tomorrows_prediction>0.5)"
   ]
  },
  {
   "cell_type": "code",
   "execution_count": 22,
   "metadata": {},
   "outputs": [
    {
     "name": "stdout",
     "output_type": "stream",
     "text": [
      "Original Prediction Range:\t [0.46194148] [0.49802947]\n",
      "Expected Range:\t\t\t [0.] [1.]\n"
     ]
    }
   ],
   "source": [
    "# inspect range of scaled predictions\n",
    "print(\"Original Prediction Range:\\t\", min(predictions), max(predictions))\n",
    "print(\"Expected Range:\\t\\t\\t\", min(y_test), max(y_test))"
   ]
  },
  {
   "cell_type": "markdown",
   "metadata": {},
   "source": [
    "# revert scaling\n",
    "tomorrow_unscaled = y_scaler.inverse_transform(tomorrows_prediction)\n",
    "unscaled_predictions = y_scaler.inverse_transform(predictions)\n",
    "unscaled_y_test = y_scaler.inverse_transform(y_test)\n",
    "print(\"Unscaled Prediction Range:\\t\", min(unscaled_predictions), max(unscaled_predictions))\n",
    "print(\"Expected Range:\\t\\t\\t\", min(unscaled_y_test), max(unscaled_y_test))"
   ]
  },
  {
   "cell_type": "markdown",
   "metadata": {},
   "source": [
    "# apply exponential function\n",
    "exponential_tomorrow = np.exp(tomorrow_unscaled)\n",
    "exponential_predictions = np.exp(unscaled_predictions)\n",
    "exponential_y_test = np.exp(unscaled_y_test)\n",
    "print(\"Exponential Prediction Range:\\t\", min(exponential_predictions), max(exponential_predictions))\n",
    "print(\"Exponential Prediction Range:\\t\", min(exponential_y_test), max(exponential_y_test))"
   ]
  },
  {
   "cell_type": "markdown",
   "metadata": {},
   "source": [
    "# Inspect quality of predictions\n",
    "places = 4\n",
    "min_pred = round(float(min(exponential_predictions)), places)\n",
    "max_pred = round(float(max(exponential_predictions)), places)\n",
    "mean_pred = round(float(np.mean(exponential_predictions)), places)\n",
    "median_pred = round(float(np.median(exponential_predictions)), places)\n",
    "percentile = round(np.percentile(exponential_predictions, 1.0), places)*100\n",
    "print(\"min pred:\\t\", min_pred)\n",
    "print(\"max pred:\\t\", max_pred)\n",
    "print(\"mean pred:\\t\", mean_pred)\n",
    "print(\"median pred:\\t\", median_pred)\n",
    "print(\"percentile(1.0):\", percentile)\n",
    "\n",
    "\n",
    "is_good_model = min_pred<=1.0 and max_pred>=1.0\n",
    "assert is_good_model"
   ]
  },
  {
   "cell_type": "code",
   "execution_count": 23,
   "metadata": {},
   "outputs": [],
   "source": [
    "def get_accuracy(y, pred, thresh):\n",
    "    \n",
    "    \"\"\"\n",
    "    params: targets from the test set, model predictions\n",
    "    \n",
    "    Scores the model's ability to correctly predict the direction of change\n",
    "    Magnitude of predicted changes is not scored.\n",
    "    \n",
    "    returns: model accuracy against the test set\n",
    "    \"\"\"\n",
    "    #scale and shift binary results\n",
    "    # -1 -> stock went down\n",
    "    # +1 -> stock increased or stayed the same\n",
    "    y = ((y>=thresh)*2)-1\n",
    "    pred = ((pred>=thresh)*2)-1\n",
    "    \n",
    "    # stocks move in the same direction when a_i*b_i is positive\n",
    "    accuracy = (np.sum((y*pred)>=0)/len(y))*100\n",
    "    \n",
    "    print(\"Predicting change in stock price with %f%s accuracy\" % (accuracy,'%'))\n",
    "    \n",
    "    return accuracy"
   ]
  },
  {
   "cell_type": "code",
   "execution_count": 24,
   "metadata": {},
   "outputs": [
    {
     "name": "stdout",
     "output_type": "stream",
     "text": [
      "Decision Threshold:  0.05\n",
      "Predicting change in stock price with 52.548243% accuracy\n",
      "Decision Threshold:  0.1\n",
      "Predicting change in stock price with 52.548243% accuracy\n",
      "Decision Threshold:  0.15\n",
      "Predicting change in stock price with 52.548243% accuracy\n",
      "Decision Threshold:  0.2\n",
      "Predicting change in stock price with 52.548243% accuracy\n",
      "Decision Threshold:  0.25\n",
      "Predicting change in stock price with 52.548243% accuracy\n",
      "Decision Threshold:  0.3\n",
      "Predicting change in stock price with 52.548243% accuracy\n",
      "Decision Threshold:  0.35\n",
      "Predicting change in stock price with 52.548243% accuracy\n",
      "Decision Threshold:  0.4\n",
      "Predicting change in stock price with 52.548243% accuracy\n",
      "Decision Threshold:  0.45\n",
      "Predicting change in stock price with 52.548243% accuracy\n",
      "Decision Threshold:  0.5\n",
      "Predicting change in stock price with 47.451757% accuracy\n",
      "Decision Threshold:  0.55\n",
      "Predicting change in stock price with 47.451757% accuracy\n",
      "Decision Threshold:  0.6\n",
      "Predicting change in stock price with 47.451757% accuracy\n",
      "Decision Threshold:  0.65\n",
      "Predicting change in stock price with 47.451757% accuracy\n",
      "Decision Threshold:  0.7\n",
      "Predicting change in stock price with 47.451757% accuracy\n",
      "Decision Threshold:  0.75\n",
      "Predicting change in stock price with 47.451757% accuracy\n",
      "Decision Threshold:  0.8\n",
      "Predicting change in stock price with 47.451757% accuracy\n",
      "Decision Threshold:  0.85\n",
      "Predicting change in stock price with 47.451757% accuracy\n",
      "Decision Threshold:  0.9\n",
      "Predicting change in stock price with 47.451757% accuracy\n",
      "Decision Threshold:  0.95\n",
      "Predicting change in stock price with 47.451757% accuracy\n"
     ]
    }
   ],
   "source": [
    "thresholds = [i/100 for i in range(5,100,5)]\n",
    "accuracies = []\n",
    "for thresh in thresholds:\n",
    "    print(\"Decision Threshold: \", thresh)\n",
    "    accuracy = get_accuracy(y_test, predictions, thresh)\n",
    "    accuracies.append(accuracy)"
   ]
  },
  {
   "cell_type": "code",
   "execution_count": 25,
   "metadata": {},
   "outputs": [],
   "source": [
    "# consistently predicting with 52.3% accuracy"
   ]
  },
  {
   "cell_type": "code",
   "execution_count": 26,
   "metadata": {},
   "outputs": [
    {
     "data": {
      "image/png": "[encoded data removed]",
      "text/plain": [
       "<Figure size 864x576 with 1 Axes>"
      ]
     },
     "metadata": {
      "needs_background": "light"
     },
     "output_type": "display_data"
    }
   ],
   "source": [
    "_ = plt.figure(figsize=(12, 8))\n",
    "_ = plt.plot(thresholds, accuracies)\n",
    "_ = plt.xticks(thresholds, rotation = 90)\n",
    "_ = plt.yticks(range(45, 55, 1))\n",
    "plt.show()"
   ]
  },
  {
   "cell_type": "code",
   "execution_count": null,
   "metadata": {},
   "outputs": [],
   "source": []
  }
 ],
 "metadata": {
  "kernelspec": {
   "display_name": "Python 3",
   "language": "python",
   "name": "python3"
  },
  "language_info": {
   "codemirror_mode": {
    "name": "ipython",
    "version": 3
   },
   "file_extension": ".py",
   "mimetype": "text/x-python",
   "name": "python",
   "nbconvert_exporter": "python",
   "pygments_lexer": "ipython3",
   "version": "3.7.6"
  }
 },
 "nbformat": 4,
 "nbformat_minor": 4
}
