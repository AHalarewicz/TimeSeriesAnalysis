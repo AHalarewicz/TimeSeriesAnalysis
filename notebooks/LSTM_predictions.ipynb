{
 "cells": [
  {
   "cell_type": "code",
   "execution_count": 1,
   "metadata": {},
   "outputs": [
    {
     "name": "stderr",
     "output_type": "stream",
     "text": [
      "Using TensorFlow backend.\n"
     ]
    }
   ],
   "source": [
    "import pandas as pd\n",
    "import numpy as np\n",
    "import matplotlib.pyplot as plt\n",
    "import keras as keras\n",
    "from keras.models import Sequential, load_model\n",
    "from keras.layers import Dense, LSTM\n",
    "from sklearn.preprocessing import MinMaxScaler\n",
    "from sklearn.model_selection import train_test_split"
   ]
  },
  {
   "cell_type": "markdown",
   "metadata": {},
   "source": [
    "# Define Functions"
   ]
  },
  {
   "cell_type": "code",
   "execution_count": 2,
   "metadata": {},
   "outputs": [],
   "source": [
    "def read_data(file):\n",
    "    \"\"\"\n",
    "    Read csv data from the specified file location.\n",
    "    \"\"\"\n",
    "    df = pd.read_csv(file, index_col='Date')\n",
    "    return df"
   ]
  },
  {
   "cell_type": "code",
   "execution_count": 3,
   "metadata": {},
   "outputs": [],
   "source": [
    "def clip_recent_days(df, n_days):\n",
    "    \"\"\"\n",
    "    -- optional --\n",
    "    remove recent days from data frame\n",
    "    \"\"\"\n",
    "    return(df[:-n_days])"
   ]
  },
  {
   "cell_type": "code",
   "execution_count": 4,
   "metadata": {},
   "outputs": [],
   "source": [
    "def format_predictors_and_targets(df):\n",
    "    \n",
    "    \"\"\"\n",
    "    params: DataFrame with Predictors and Targets\n",
    "    \n",
    "    drop empty rows and prepare targets and predictors\n",
    "    \n",
    "    returns: formatted predictors, targets, and number of predictor columns\n",
    "    \n",
    "    \"\"\"\n",
    "    \n",
    "    #drop rows with missing values\n",
    "    df = df.dropna()\n",
    "    \n",
    "    # Extract Predictors\n",
    "    predictors = df[['back_5', 'back_4', 'back_3', 'back_2', 'back_1']].values\n",
    "    assert type(predictors) is np.ndarray\n",
    "    \n",
    "    # count number of predictive columns\n",
    "    n_cols = predictors.shape[1]\n",
    "    \n",
    "    # extract target\n",
    "    targets = df[['Adj Close']].values\n",
    "    assert type(targets) is np.ndarray\n",
    "    \n",
    "    return predictors, targets, n_cols"
   ]
  },
  {
   "cell_type": "markdown",
   "metadata": {},
   "source": [
    "# Prepare Data"
   ]
  },
  {
   "cell_type": "code",
   "execution_count": 5,
   "metadata": {},
   "outputs": [],
   "source": [
    "# DEFINE DATA CONSTANTS\n",
    "TEST_SIZE = 0.05"
   ]
  },
  {
   "cell_type": "code",
   "execution_count": 6,
   "metadata": {},
   "outputs": [],
   "source": [
    "# specify location of time series data\n",
    "file_path = '../data/interim/time_series.csv'"
   ]
  },
  {
   "cell_type": "code",
   "execution_count": 7,
   "metadata": {},
   "outputs": [
    {
     "data": {
      "text/html": [
       "<div>\n",
       "<style scoped>\n",
       "    .dataframe tbody tr th:only-of-type {\n",
       "        vertical-align: middle;\n",
       "    }\n",
       "\n",
       "    .dataframe tbody tr th {\n",
       "        vertical-align: top;\n",
       "    }\n",
       "\n",
       "    .dataframe thead th {\n",
       "        text-align: right;\n",
       "    }\n",
       "</style>\n",
       "<table border=\"1\" class=\"dataframe\">\n",
       "  <thead>\n",
       "    <tr style=\"text-align: right;\">\n",
       "      <th></th>\n",
       "      <th>back_5</th>\n",
       "      <th>back_4</th>\n",
       "      <th>back_3</th>\n",
       "      <th>back_2</th>\n",
       "      <th>back_1</th>\n",
       "      <th>Adj Close</th>\n",
       "    </tr>\n",
       "    <tr>\n",
       "      <th>Date</th>\n",
       "      <th></th>\n",
       "      <th></th>\n",
       "      <th></th>\n",
       "      <th></th>\n",
       "      <th></th>\n",
       "      <th></th>\n",
       "    </tr>\n",
       "  </thead>\n",
       "  <tbody>\n",
       "    <tr>\n",
       "      <th>1962-01-02</th>\n",
       "      <td>NaN</td>\n",
       "      <td>NaN</td>\n",
       "      <td>NaN</td>\n",
       "      <td>NaN</td>\n",
       "      <td>NaN</td>\n",
       "      <td>0.014743</td>\n",
       "    </tr>\n",
       "    <tr>\n",
       "      <th>1962-01-03</th>\n",
       "      <td>NaN</td>\n",
       "      <td>NaN</td>\n",
       "      <td>NaN</td>\n",
       "      <td>NaN</td>\n",
       "      <td>0.014743</td>\n",
       "      <td>0.002435</td>\n",
       "    </tr>\n",
       "    <tr>\n",
       "      <th>1962-01-04</th>\n",
       "      <td>NaN</td>\n",
       "      <td>NaN</td>\n",
       "      <td>NaN</td>\n",
       "      <td>0.014743</td>\n",
       "      <td>0.002435</td>\n",
       "      <td>-0.022141</td>\n",
       "    </tr>\n",
       "    <tr>\n",
       "      <th>1962-01-05</th>\n",
       "      <td>NaN</td>\n",
       "      <td>NaN</td>\n",
       "      <td>0.014743</td>\n",
       "      <td>0.002435</td>\n",
       "      <td>-0.022141</td>\n",
       "      <td>-0.002490</td>\n",
       "    </tr>\n",
       "    <tr>\n",
       "      <th>1962-01-08</th>\n",
       "      <td>NaN</td>\n",
       "      <td>0.014743</td>\n",
       "      <td>0.002435</td>\n",
       "      <td>-0.022141</td>\n",
       "      <td>-0.002490</td>\n",
       "      <td>-0.002498</td>\n",
       "    </tr>\n",
       "    <tr>\n",
       "      <th>...</th>\n",
       "      <td>...</td>\n",
       "      <td>...</td>\n",
       "      <td>...</td>\n",
       "      <td>...</td>\n",
       "      <td>...</td>\n",
       "      <td>...</td>\n",
       "    </tr>\n",
       "    <tr>\n",
       "      <th>2020-04-03</th>\n",
       "      <td>0.014775</td>\n",
       "      <td>0.012455</td>\n",
       "      <td>-0.011656</td>\n",
       "      <td>0.073689</td>\n",
       "      <td>-0.029898</td>\n",
       "      <td>0.031629</td>\n",
       "    </tr>\n",
       "    <tr>\n",
       "      <th>2020-04-06</th>\n",
       "      <td>0.012455</td>\n",
       "      <td>-0.011656</td>\n",
       "      <td>0.073689</td>\n",
       "      <td>-0.029898</td>\n",
       "      <td>0.031629</td>\n",
       "      <td>0.018848</td>\n",
       "    </tr>\n",
       "    <tr>\n",
       "      <th>2020-04-07</th>\n",
       "      <td>-0.011656</td>\n",
       "      <td>0.073689</td>\n",
       "      <td>-0.029898</td>\n",
       "      <td>0.031629</td>\n",
       "      <td>0.018848</td>\n",
       "      <td>0.061366</td>\n",
       "    </tr>\n",
       "    <tr>\n",
       "      <th>2020-04-08</th>\n",
       "      <td>0.073689</td>\n",
       "      <td>-0.029898</td>\n",
       "      <td>0.031629</td>\n",
       "      <td>0.018848</td>\n",
       "      <td>0.061366</td>\n",
       "      <td>-0.016556</td>\n",
       "    </tr>\n",
       "    <tr>\n",
       "      <th>2020-04-09</th>\n",
       "      <td>-0.029898</td>\n",
       "      <td>0.031629</td>\n",
       "      <td>0.018848</td>\n",
       "      <td>0.061366</td>\n",
       "      <td>-0.016556</td>\n",
       "      <td>NaN</td>\n",
       "    </tr>\n",
       "  </tbody>\n",
       "</table>\n",
       "<p>14669 rows × 6 columns</p>\n",
       "</div>"
      ],
      "text/plain": [
       "              back_5    back_4    back_3    back_2    back_1  Adj Close\n",
       "Date                                                                   \n",
       "1962-01-02       NaN       NaN       NaN       NaN       NaN   0.014743\n",
       "1962-01-03       NaN       NaN       NaN       NaN  0.014743   0.002435\n",
       "1962-01-04       NaN       NaN       NaN  0.014743  0.002435  -0.022141\n",
       "1962-01-05       NaN       NaN  0.014743  0.002435 -0.022141  -0.002490\n",
       "1962-01-08       NaN  0.014743  0.002435 -0.022141 -0.002490  -0.002498\n",
       "...              ...       ...       ...       ...       ...        ...\n",
       "2020-04-03  0.014775  0.012455 -0.011656  0.073689 -0.029898   0.031629\n",
       "2020-04-06  0.012455 -0.011656  0.073689 -0.029898  0.031629   0.018848\n",
       "2020-04-07 -0.011656  0.073689 -0.029898  0.031629  0.018848   0.061366\n",
       "2020-04-08  0.073689 -0.029898  0.031629  0.018848  0.061366  -0.016556\n",
       "2020-04-09 -0.029898  0.031629  0.018848  0.061366 -0.016556        NaN\n",
       "\n",
       "[14669 rows x 6 columns]"
      ]
     },
     "execution_count": 7,
     "metadata": {},
     "output_type": "execute_result"
    }
   ],
   "source": [
    "# read time series data\n",
    "time_series_df = read_data(file_path)\n",
    "time_series_df"
   ]
  },
  {
   "cell_type": "code",
   "execution_count": 8,
   "metadata": {},
   "outputs": [
    {
     "name": "stdout",
     "output_type": "stream",
     "text": [
      "<class 'pandas.core.frame.DataFrame'>\n",
      "Index: 14669 entries, 1962-01-02 to 2020-04-09\n",
      "Data columns (total 6 columns):\n",
      " #   Column     Non-Null Count  Dtype  \n",
      "---  ------     --------------  -----  \n",
      " 0   back_5     14664 non-null  float64\n",
      " 1   back_4     14665 non-null  float64\n",
      " 2   back_3     14666 non-null  float64\n",
      " 3   back_2     14667 non-null  float64\n",
      " 4   back_1     14668 non-null  float64\n",
      " 5   Adj Close  14668 non-null  float64\n",
      "dtypes: float64(6)\n",
      "memory usage: 802.2+ KB\n"
     ]
    }
   ],
   "source": [
    "# Inspect columns missing values\n",
    "time_series_df.info()"
   ]
  },
  {
   "cell_type": "code",
   "execution_count": 9,
   "metadata": {},
   "outputs": [],
   "source": [
    "# extract last row to predict tomorrow's change\n",
    "tomorrow = time_series_df.iloc[[-1]].fillna(0)\n",
    "\n",
    "# call function to format predictors and targets\n",
    "tomorrow, _ , _ = format_predictors_and_targets(tomorrow)\n",
    "predictors, targets, n_cols = format_predictors_and_targets(time_series_df)\n"
   ]
  },
  {
   "cell_type": "code",
   "execution_count": 10,
   "metadata": {},
   "outputs": [],
   "source": [
    "# scale data to range [0,1]\n",
    "\n",
    "# create scaler objects\n",
    "X_scaler = MinMaxScaler(feature_range=(0,1))\n",
    "y_scaler = MinMaxScaler(feature_range=(0,1))\n",
    "\n",
    "# fit respective scalers to data\n",
    "predictors = X_scaler.fit_transform(predictors)\n",
    "tomorrow = X_scaler.transform(tomorrow)\n",
    "targets = y_scaler.fit_transform(targets)\n"
   ]
  },
  {
   "cell_type": "code",
   "execution_count": 11,
   "metadata": {},
   "outputs": [],
   "source": [
    "# test for correct scaling\n",
    "assert min(predictors.flatten()) == 0\n",
    "assert max(predictors.flatten()) == 1\n",
    "assert min(targets.flatten()) == 0\n",
    "assert max(targets.flatten()) == 1"
   ]
  },
  {
   "cell_type": "markdown",
   "metadata": {},
   "source": [
    "**Important for Time Series Analysis:**\n",
    "\n",
    "The training set must only contain stock price data for dates prior to all of the test data.\n",
    "\n",
    "The model will be overly optimistic if it trained on future data and evaluated on previous data.\n",
    "\n",
    "\n",
    "RESULT: Random split will not work\n",
    "split needs to be sequential.\n",
    "\n",
    "\n",
    "[____________ALL_____SEQUENTIAL_______DATA______]\n",
    "\n",
    "\n",
    "[____________TRAINING    DATA_____],[___________TEST_DATA____]"
   ]
  },
  {
   "cell_type": "code",
   "execution_count": 12,
   "metadata": {},
   "outputs": [],
   "source": [
    "# split data into training set and testing set\n",
    "# SHUFFLE = FALSE\n",
    "X_train, X_test, y_train, y_test = train_test_split(predictors, targets, test_size=TEST_SIZE, shuffle=False, stratify=None, random_state=1)"
   ]
  },
  {
   "cell_type": "code",
   "execution_count": 13,
   "metadata": {},
   "outputs": [],
   "source": [
    "# test for sequential split\n",
    "assert np.argwhere(predictors == X_train[-1])[0][0] == (np.argwhere(predictors == X_test[0])[0][0]) -1\n",
    "assert np.argwhere(predictors == y_train[-1])[0][0] == (np.argwhere(predictors == y_test[0])[0][0]) -1"
   ]
  },
  {
   "cell_type": "code",
   "execution_count": 14,
   "metadata": {},
   "outputs": [
    {
     "data": {
      "text/plain": [
       "734"
      ]
     },
     "execution_count": 14,
     "metadata": {},
     "output_type": "execute_result"
    }
   ],
   "source": [
    "# how many days of stock data are in the test set?\n",
    "len(y_test)"
   ]
  },
  {
   "cell_type": "markdown",
   "metadata": {},
   "source": [
    "# Build Model"
   ]
  },
  {
   "cell_type": "code",
   "execution_count": 15,
   "metadata": {},
   "outputs": [],
   "source": [
    "# re-shape predictors for keras model\n",
    "tomorrow = np.reshape(tomorrow, (1, 1, tomorrow.shape[1]))\n",
    "X_train = np.reshape(X_train, (X_train.shape[0], 1, X_train.shape[1]))\n",
    "X_test = np.reshape(X_test, (X_test.shape[0], 1, X_test.shape[1]))\n",
    "\n",
    "assert X_train.shape[1:] == tomorrow.shape[1:]"
   ]
  },
  {
   "cell_type": "code",
   "execution_count": 17,
   "metadata": {},
   "outputs": [],
   "source": [
    "def build_sequential_LSTM(n_nodes, n_layers, add_dense):\n",
    "    \n",
    "    \"\"\"\n",
    "    Params: number of nodes in layers, number of LSTM layers, option to add Dense Layer\n",
    "    \n",
    "    Build a Sequential keras model with LSTM and optional Dense Layers\n",
    "    \n",
    "    Returns: Keras model with LSTM layers with minimum of 2 LSTM layers\n",
    "    \n",
    "    \"\"\"\n",
    "    \n",
    "    # create Sequential model object\n",
    "    model = Sequential()\n",
    "    \n",
    "    # add initial LSTM Layer\n",
    "    model.add(LSTM(n_nodes, return_sequences=True, input_shape=X_train.shape[1:]))\n",
    "    \n",
    "\n",
    "    # add specified amount of additional LSTM layers\n",
    "    for i in range(n_layers-2):\n",
    "        model.add(LSTM(n_nodes, return_sequences=True))\n",
    "    \n",
    "    #return_sequences = False if next layer is not LSTM\n",
    "    model.add(LSTM(n_nodes, return_sequences=False))\n",
    "    \n",
    "    \n",
    "    if add_dense:\n",
    "        # add optional Fully Connected Layer\n",
    "        model.add(Dense(n_nodes, activation='relu'))\n",
    "        \n",
    "    # add Dense layer to produce output\n",
    "    model.add(Dense(1))\n",
    "    \n",
    "    # compile model\n",
    "    model.compile(optimizer='adam', loss='mean_squared_error')\n",
    "    \n",
    "    return model"
   ]
  },
  {
   "cell_type": "code",
   "execution_count": 18,
   "metadata": {},
   "outputs": [],
   "source": [
    "# DEFINE MODEL CONSTANTS\n",
    "N_NODES = 100\n",
    "N_LAYERS = 4\n",
    "ADD_DENSE = True"
   ]
  },
  {
   "cell_type": "code",
   "execution_count": 19,
   "metadata": {
    "scrolled": false
   },
   "outputs": [
    {
     "name": "stdout",
     "output_type": "stream",
     "text": [
      "Model: \"sequential_1\"\n",
      "_________________________________________________________________\n",
      "Layer (type)                 Output Shape              Param #   \n",
      "=================================================================\n",
      "lstm_1 (LSTM)                (None, 1, 100)            42400     \n",
      "_________________________________________________________________\n",
      "lstm_2 (LSTM)                (None, 1, 100)            80400     \n",
      "_________________________________________________________________\n",
      "lstm_3 (LSTM)                (None, 1, 100)            80400     \n",
      "_________________________________________________________________\n",
      "lstm_4 (LSTM)                (None, 100)               80400     \n",
      "_________________________________________________________________\n",
      "dense_1 (Dense)              (None, 100)               10100     \n",
      "_________________________________________________________________\n",
      "dense_2 (Dense)              (None, 1)                 101       \n",
      "=================================================================\n",
      "Total params: 293,801\n",
      "Trainable params: 293,801\n",
      "Non-trainable params: 0\n",
      "_________________________________________________________________\n"
     ]
    }
   ],
   "source": [
    "# build Sequential Model\n",
    "model = build_sequential_LSTM(N_NODES, N_LAYERS, ADD_DENSE)\n",
    "model.summary()"
   ]
  },
  {
   "cell_type": "markdown",
   "metadata": {},
   "source": [
    "# Fit The Model Exclusively with Training Data."
   ]
  },
  {
   "cell_type": "code",
   "execution_count": 20,
   "metadata": {},
   "outputs": [],
   "source": [
    "# DEFINE TRAINING CONSTANTS\n",
    "EPOCHS = 2"
   ]
  },
  {
   "cell_type": "code",
   "execution_count": 21,
   "metadata": {},
   "outputs": [
    {
     "name": "stdout",
     "output_type": "stream",
     "text": [
      "Epoch 1/2\n",
      "13929/13929 [==============================] - 6s 407us/step - loss: 0.0148\n",
      "Epoch 2/2\n",
      "13929/13929 [==============================] - 3s 235us/step - loss: 0.0011\n"
     ]
    },
    {
     "data": {
      "text/plain": [
       "<keras.callbacks.callbacks.History at 0x7c144bfa0d50>"
      ]
     },
     "execution_count": 21,
     "metadata": {},
     "output_type": "execute_result"
    }
   ],
   "source": [
    "# fit model to training data\n",
    "model.fit(X_train, y_train, epochs=EPOCHS)"
   ]
  },
  {
   "cell_type": "markdown",
   "metadata": {},
   "source": [
    "# Save The Model"
   ]
  },
  {
   "cell_type": "code",
   "execution_count": 37,
   "metadata": {},
   "outputs": [
    {
     "name": "stdout",
     "output_type": "stream",
     "text": [
      "Model: \"sequential_1\"\n",
      "_________________________________________________________________\n",
      "Layer (type)                 Output Shape              Param #   \n",
      "=================================================================\n",
      "lstm_1 (LSTM)                (None, 1, 100)            42400     \n",
      "_________________________________________________________________\n",
      "lstm_2 (LSTM)                (None, 1, 100)            80400     \n",
      "_________________________________________________________________\n",
      "lstm_3 (LSTM)                (None, 1, 100)            80400     \n",
      "_________________________________________________________________\n",
      "lstm_4 (LSTM)                (None, 100)               80400     \n",
      "_________________________________________________________________\n",
      "dense_1 (Dense)              (None, 100)               10100     \n",
      "_________________________________________________________________\n",
      "dense_2 (Dense)              (None, 1)                 101       \n",
      "=================================================================\n",
      "Total params: 293,801\n",
      "Trainable params: 293,801\n",
      "Non-trainable params: 0\n",
      "_________________________________________________________________\n"
     ]
    }
   ],
   "source": [
    "# save and load model\n",
    "model.save('../models/keras_lstm.h5')\n",
    "model = load_model('../models/keras_lstm.h5')\n",
    "\n",
    "# verify model structure\n",
    "model.summary()"
   ]
  },
  {
   "cell_type": "markdown",
   "metadata": {},
   "source": [
    "# Make predictions and interpret results"
   ]
  },
  {
   "cell_type": "code",
   "execution_count": 23,
   "metadata": {},
   "outputs": [
    {
     "data": {
      "text/plain": [
       "array([[0.62920696]], dtype=float32)"
      ]
     },
     "execution_count": 23,
     "metadata": {},
     "output_type": "execute_result"
    }
   ],
   "source": [
    "# Make Predictions\n",
    "predictions = model.predict(X_test)\n",
    "tomorrows_prediction = model.predict(tomorrow)"
   ]
  },
  {
   "cell_type": "code",
   "execution_count": 24,
   "metadata": {},
   "outputs": [
    {
     "name": "stdout",
     "output_type": "stream",
     "text": [
      "Original Prediction Range:\t [0.58685285] [0.6380191]\n",
      "Expected Range:\t\t\t [0.31631961] [0.89503638]\n"
     ]
    }
   ],
   "source": [
    "# inspect range of scaled predictions\n",
    "print(\"Original Prediction Range:\\t\", min(predictions), max(predictions))\n",
    "print(\"Expected Range:\\t\\t\\t\", min(y_test), max(y_test))"
   ]
  },
  {
   "cell_type": "code",
   "execution_count": 25,
   "metadata": {},
   "outputs": [
    {
     "name": "stdout",
     "output_type": "stream",
     "text": [
      "Unscaled Prediction Range:\t [-0.0136013] [0.00848726]\n",
      "Expected Range:\t\t\t [-0.13039097] [0.11944208]\n"
     ]
    }
   ],
   "source": [
    "# revert scaling\n",
    "tomorrow_unscaled = y_scaler.inverse_transform(tomorrows_prediction)\n",
    "unscaled_predictions = y_scaler.inverse_transform(predictions)\n",
    "unscaled_y_test = y_scaler.inverse_transform(y_test)\n",
    "print(\"Unscaled Prediction Range:\\t\", min(unscaled_predictions), max(unscaled_predictions))\n",
    "print(\"Expected Range:\\t\\t\\t\", min(unscaled_y_test), max(unscaled_y_test))"
   ]
  },
  {
   "cell_type": "code",
   "execution_count": 26,
   "metadata": {
    "scrolled": true
   },
   "outputs": [
    {
     "name": "stdout",
     "output_type": "stream",
     "text": [
      "Exponential Prediction Range:\t [0.9864908] [1.0085233]\n",
      "Exponential Prediction Range:\t [0.87775219] [1.12686797]\n"
     ]
    }
   ],
   "source": [
    "# apply exponential function\n",
    "exponential_tomorrow = np.exp(tomorrow_unscaled)\n",
    "exponential_predictions = np.exp(unscaled_predictions)\n",
    "exponential_y_test = np.exp(unscaled_y_test)\n",
    "print(\"Exponential Prediction Range:\\t\", min(exponential_predictions), max(exponential_predictions))\n",
    "print(\"Exponential Prediction Range:\\t\", min(exponential_y_test), max(exponential_y_test))"
   ]
  },
  {
   "cell_type": "markdown",
   "metadata": {},
   "source": [
    "# Inspect Quality of Predictions"
   ]
  },
  {
   "cell_type": "code",
   "execution_count": 27,
   "metadata": {},
   "outputs": [
    {
     "name": "stdout",
     "output_type": "stream",
     "text": [
      "min pred:\t 0.9865\n",
      "max pred:\t 1.0085\n",
      "mean pred:\t 1.0002\n",
      "median pred:\t 1.0005\n",
      "percentile(1.0): 99.11\n"
     ]
    }
   ],
   "source": [
    "# Inspect quality of predictions\n",
    "places = 4\n",
    "min_pred = round(float(min(exponential_predictions)), places)\n",
    "max_pred = round(float(max(exponential_predictions)), places)\n",
    "mean_pred = round(float(np.mean(exponential_predictions)), places)\n",
    "median_pred = round(float(np.median(exponential_predictions)), places)\n",
    "percentile = round(np.percentile(exponential_predictions, 1.0), places)*100\n",
    "print(\"min pred:\\t\", min_pred)\n",
    "print(\"max pred:\\t\", max_pred)\n",
    "print(\"mean pred:\\t\", mean_pred)\n",
    "print(\"median pred:\\t\", median_pred)\n",
    "print(\"percentile(1.0):\", percentile)\n",
    "\n",
    "\n",
    "is_good_model = min_pred<=1.0 and max_pred>=1.0\n",
    "assert is_good_model"
   ]
  },
  {
   "cell_type": "markdown",
   "metadata": {},
   "source": [
    "# Score Model"
   ]
  },
  {
   "cell_type": "code",
   "execution_count": 28,
   "metadata": {},
   "outputs": [],
   "source": [
    "def get_accuracy(y, pred):\n",
    "    \n",
    "    \"\"\"\n",
    "    params: targets from the test set, model predictions\n",
    "    \n",
    "    Scores the model's ability to correctly predict the direction of change\n",
    "    Magnitude of predicted changes is not scored.\n",
    "    \n",
    "    returns: model accuracy against the test set\n",
    "    \"\"\"\n",
    "    #scale and shift binary results\n",
    "    # -1 -> stock went down\n",
    "    # +1 -> stock increased or stayed the same\n",
    "    y = ((y>=1)*2)-1\n",
    "    pred = ((pred>=1)*2)-1\n",
    "    \n",
    "    # stocks move in the same direction when a_i*b_i is positive\n",
    "    accuracy = (np.sum((y*pred)>=0)/len(y))*100\n",
    "    \n",
    "    print(\"Predicting change in stock price with %f%s accuracy\" % (accuracy,'%'))\n",
    "    \n",
    "    return accuracy"
   ]
  },
  {
   "cell_type": "code",
   "execution_count": 29,
   "metadata": {},
   "outputs": [
    {
     "name": "stdout",
     "output_type": "stream",
     "text": [
      "Predicting change in stock price with 51.362398% accuracy\n"
     ]
    }
   ],
   "source": [
    "accuracy = get_accuracy(exponential_y_test, exponential_predictions)"
   ]
  },
  {
   "cell_type": "markdown",
   "metadata": {},
   "source": [
    "# Visualize Predictions"
   ]
  },
  {
   "cell_type": "code",
   "execution_count": 38,
   "metadata": {},
   "outputs": [],
   "source": [
    "# read data with Adj Close Price\n",
    "raw_data = pd.read_csv('../data/raw/raw.csv', index_col=['Date'])"
   ]
  },
  {
   "cell_type": "code",
   "execution_count": 31,
   "metadata": {},
   "outputs": [
    {
     "name": "stderr",
     "output_type": "stream",
     "text": [
      "/home/alhalarewicz/anaconda3/envs/TimeSeries/lib/python3.7/site-packages/pandas/core/computation/expressions.py:178: UserWarning: evaluating in Python space because the '*' operator is not supported by numexpr for the bool dtype, use '&' instead\n",
      "  f\"evaluating in Python space because the {repr(op_str)} \"\n",
      "/home/alhalarewicz/anaconda3/envs/TimeSeries/lib/python3.7/site-packages/pandas/core/computation/expressions.py:178: UserWarning: evaluating in Python space because the '+' operator is not supported by numexpr for the bool dtype, use '|' instead\n",
      "  f\"evaluating in Python space because the {repr(op_str)} \"\n"
     ]
    },
    {
     "data": {
      "text/html": [
       "<div>\n",
       "<style scoped>\n",
       "    .dataframe tbody tr th:only-of-type {\n",
       "        vertical-align: middle;\n",
       "    }\n",
       "\n",
       "    .dataframe tbody tr th {\n",
       "        vertical-align: top;\n",
       "    }\n",
       "\n",
       "    .dataframe thead th {\n",
       "        text-align: right;\n",
       "    }\n",
       "</style>\n",
       "<table border=\"1\" class=\"dataframe\">\n",
       "  <thead>\n",
       "    <tr style=\"text-align: right;\">\n",
       "      <th></th>\n",
       "      <th>price</th>\n",
       "      <th>exponential_prediction</th>\n",
       "      <th>actual_return</th>\n",
       "      <th>predicted_price</th>\n",
       "      <th>expected_change</th>\n",
       "      <th>correct_prediction</th>\n",
       "      <th>color</th>\n",
       "    </tr>\n",
       "    <tr>\n",
       "      <th>Date</th>\n",
       "      <th></th>\n",
       "      <th></th>\n",
       "      <th></th>\n",
       "      <th></th>\n",
       "      <th></th>\n",
       "      <th></th>\n",
       "      <th></th>\n",
       "    </tr>\n",
       "  </thead>\n",
       "  <tbody>\n",
       "    <tr>\n",
       "      <th>2017-05-10</th>\n",
       "      <td>72.611153</td>\n",
       "      <td>1.000599</td>\n",
       "      <td>1.008546</td>\n",
       "      <td>72.654649</td>\n",
       "      <td>0.043496</td>\n",
       "      <td>True</td>\n",
       "      <td>green</td>\n",
       "    </tr>\n",
       "    <tr>\n",
       "      <th>2017-05-11</th>\n",
       "      <td>73.231689</td>\n",
       "      <td>1.001407</td>\n",
       "      <td>0.999274</td>\n",
       "      <td>73.334694</td>\n",
       "      <td>0.103004</td>\n",
       "      <td>False</td>\n",
       "      <td>red</td>\n",
       "    </tr>\n",
       "    <tr>\n",
       "      <th>2017-05-12</th>\n",
       "      <td>73.178505</td>\n",
       "      <td>1.001180</td>\n",
       "      <td>1.003028</td>\n",
       "      <td>73.264833</td>\n",
       "      <td>0.086328</td>\n",
       "      <td>True</td>\n",
       "      <td>green</td>\n",
       "    </tr>\n",
       "    <tr>\n",
       "      <th>2017-05-15</th>\n",
       "      <td>73.400116</td>\n",
       "      <td>1.000992</td>\n",
       "      <td>0.996981</td>\n",
       "      <td>73.472960</td>\n",
       "      <td>0.072844</td>\n",
       "      <td>False</td>\n",
       "      <td>red</td>\n",
       "    </tr>\n",
       "    <tr>\n",
       "      <th>2017-05-16</th>\n",
       "      <td>73.178505</td>\n",
       "      <td>1.001100</td>\n",
       "      <td>0.993216</td>\n",
       "      <td>73.258997</td>\n",
       "      <td>0.080492</td>\n",
       "      <td>False</td>\n",
       "      <td>red</td>\n",
       "    </tr>\n",
       "    <tr>\n",
       "      <th>...</th>\n",
       "      <td>...</td>\n",
       "      <td>...</td>\n",
       "      <td>...</td>\n",
       "      <td>...</td>\n",
       "      <td>...</td>\n",
       "      <td>...</td>\n",
       "      <td>...</td>\n",
       "    </tr>\n",
       "    <tr>\n",
       "      <th>2020-04-02</th>\n",
       "      <td>40.400002</td>\n",
       "      <td>1.002370</td>\n",
       "      <td>0.970544</td>\n",
       "      <td>40.495754</td>\n",
       "      <td>0.095753</td>\n",
       "      <td>False</td>\n",
       "      <td>red</td>\n",
       "    </tr>\n",
       "    <tr>\n",
       "      <th>2020-04-03</th>\n",
       "      <td>39.209999</td>\n",
       "      <td>1.003785</td>\n",
       "      <td>1.032135</td>\n",
       "      <td>39.358395</td>\n",
       "      <td>0.148396</td>\n",
       "      <td>True</td>\n",
       "      <td>green</td>\n",
       "    </tr>\n",
       "    <tr>\n",
       "      <th>2020-04-06</th>\n",
       "      <td>40.470001</td>\n",
       "      <td>1.004327</td>\n",
       "      <td>1.019026</td>\n",
       "      <td>40.645132</td>\n",
       "      <td>0.175131</td>\n",
       "      <td>True</td>\n",
       "      <td>green</td>\n",
       "    </tr>\n",
       "    <tr>\n",
       "      <th>2020-04-07</th>\n",
       "      <td>41.240002</td>\n",
       "      <td>1.004799</td>\n",
       "      <td>1.063288</td>\n",
       "      <td>41.437908</td>\n",
       "      <td>0.197906</td>\n",
       "      <td>True</td>\n",
       "      <td>green</td>\n",
       "    </tr>\n",
       "    <tr>\n",
       "      <th>2020-04-08</th>\n",
       "      <td>43.849998</td>\n",
       "      <td>1.007203</td>\n",
       "      <td>0.983580</td>\n",
       "      <td>44.165870</td>\n",
       "      <td>0.315872</td>\n",
       "      <td>False</td>\n",
       "      <td>red</td>\n",
       "    </tr>\n",
       "  </tbody>\n",
       "</table>\n",
       "<p>734 rows × 7 columns</p>\n",
       "</div>"
      ],
      "text/plain": [
       "                price  exponential_prediction  actual_return  predicted_price  \\\n",
       "Date                                                                            \n",
       "2017-05-10  72.611153                1.000599       1.008546        72.654649   \n",
       "2017-05-11  73.231689                1.001407       0.999274        73.334694   \n",
       "2017-05-12  73.178505                1.001180       1.003028        73.264833   \n",
       "2017-05-15  73.400116                1.000992       0.996981        73.472960   \n",
       "2017-05-16  73.178505                1.001100       0.993216        73.258997   \n",
       "...               ...                     ...            ...              ...   \n",
       "2020-04-02  40.400002                1.002370       0.970544        40.495754   \n",
       "2020-04-03  39.209999                1.003785       1.032135        39.358395   \n",
       "2020-04-06  40.470001                1.004327       1.019026        40.645132   \n",
       "2020-04-07  41.240002                1.004799       1.063288        41.437908   \n",
       "2020-04-08  43.849998                1.007203       0.983580        44.165870   \n",
       "\n",
       "            expected_change  correct_prediction  color  \n",
       "Date                                                    \n",
       "2017-05-10         0.043496                True  green  \n",
       "2017-05-11         0.103004               False    red  \n",
       "2017-05-12         0.086328                True  green  \n",
       "2017-05-15         0.072844               False    red  \n",
       "2017-05-16         0.080492               False    red  \n",
       "...                     ...                 ...    ...  \n",
       "2020-04-02         0.095753               False    red  \n",
       "2020-04-03         0.148396                True  green  \n",
       "2020-04-06         0.175131                True  green  \n",
       "2020-04-07         0.197906                True  green  \n",
       "2020-04-08         0.315872               False    red  \n",
       "\n",
       "[734 rows x 7 columns]"
      ]
     },
     "execution_count": 31,
     "metadata": {},
     "output_type": "execute_result"
    }
   ],
   "source": [
    "# Create DataFrame to hold vizualization data \n",
    "\n",
    "# extract 'Adj Close' column\n",
    "viz_df = raw_data[['Adj Close']]\n",
    "viz_df.columns = ['price']\n",
    "\n",
    "\n",
    "# drop rows with missing data\n",
    "viz_df = viz_df.dropna()\n",
    "\n",
    "# slice training data\n",
    "viz_df = viz_df.iloc[len(X_train)+5:-1]\n",
    "\n",
    "\n",
    "# create dataFrame with prediction data\n",
    "predictions_df = pd.DataFrame(exponential_predictions)\n",
    "predictions_df['actual_return'] = exponential_y_test\n",
    "predictions_df.index = viz_df.index\n",
    "predictions_df.columns = ['exp_preds', 'actual_return']\n",
    "\n",
    "# append prediction columns to viz dataFrame\n",
    "viz_df['exponential_prediction'] = predictions_df.exp_preds\n",
    "viz_df['actual_return'] = predictions_df.actual_return\n",
    "\n",
    "# compute predicted price from predicted returns\n",
    "viz_df['predicted_price'] = viz_df.price * viz_df.exponential_prediction\n",
    "\n",
    "# compute and color code correctly predicted changes\n",
    "viz_df['expected_change'] = viz_df.predicted_price - viz_df.price\n",
    "viz_df['correct_prediction'] = ((viz_df.exponential_prediction>=1.0) * (viz_df.actual_return>=1.0)) + ((viz_df.exponential_prediction<1.0) * (viz_df.actual_return<1.0))\n",
    "viz_df['color'] = viz_df.correct_prediction.map({True:'green', False:'red'})\n",
    "viz_df.head()"
   ]
  },
  {
   "cell_type": "code",
   "execution_count": 32,
   "metadata": {},
   "outputs": [],
   "source": [
    "# slice one month to visualize results\n",
    "viz_df1 = viz_df.loc['2019-01-01':'2019-01-31']"
   ]
  },
  {
   "cell_type": "code",
   "execution_count": 33,
   "metadata": {},
   "outputs": [
    {
     "data": {
      "image/png": "[encoded data removed]",
      "text/plain": [
       "<Figure size 1080x1080 with 1 Axes>"
      ]
     },
     "metadata": {
      "needs_background": "light"
     },
     "output_type": "display_data"
    }
   ],
   "source": [
    "# plot daily predicted prices with actual prices\n",
    "_ = plt.figure(figsize=(15,15))\n",
    "_ = plt.plot(viz_df1['price'], marker='.', alpha=0.9)\n",
    "_ = plt.plot(viz_df1['predicted_price'], marker='.', alpha=0.75)\n",
    "_ = plt.legend(['Actual Price', 'Predictions'])\n",
    "_ = plt.xticks(rotation=90)\n",
    "plt.show()"
   ]
  },
  {
   "cell_type": "code",
   "execution_count": 34,
   "metadata": {},
   "outputs": [],
   "source": [
    "# create shape and features of predictive arrows\n",
    "xi = list(viz_df1.index)\n",
    "yi = [pt for pt in viz_df1['price']]\n",
    "yf = [pt for pt in viz_df1['predicted_price']]\n",
    "delta = list(viz_df1.expected_change)\n",
    "color = list(viz_df1.color)"
   ]
  },
  {
   "cell_type": "code",
   "execution_count": 35,
   "metadata": {},
   "outputs": [
    {
     "data": {
      "image/png": "[encoded data removed]",
      "text/plain": [
       "<Figure size 720x504 with 1 Axes>"
      ]
     },
     "metadata": {
      "needs_background": "light"
     },
     "output_type": "display_data"
    }
   ],
   "source": [
    "# plot direction and accuracy of predictions with actual price\n",
    "_ = plt.figure(figsize=(10,7))\n",
    "_ = plt.plot(viz_df1['price'], marker='.', alpha=0.9)\n",
    "_ = plt.legend(['Actual Price', 'Predictions'])\n",
    "_ = plt.xticks(rotation=90)\n",
    "\n",
    "# create individual arrows for daily predictions\n",
    "for i in range(len(xi)):\n",
    "    _ = plt.arrow(xi[i], yi[i],0.25, delta[i], head_width=0.05, head_length=0.1, color=color[i])\n",
    "plt.show()"
   ]
  },
  {
   "cell_type": "markdown",
   "metadata": {},
   "source": [
    "# Tomorrow's prediction"
   ]
  },
  {
   "cell_type": "code",
   "execution_count": 36,
   "metadata": {},
   "outputs": [
    {
     "data": {
      "text/html": [
       "<div>\n",
       "<style scoped>\n",
       "    .dataframe tbody tr th:only-of-type {\n",
       "        vertical-align: middle;\n",
       "    }\n",
       "\n",
       "    .dataframe tbody tr th {\n",
       "        vertical-align: top;\n",
       "    }\n",
       "\n",
       "    .dataframe thead th {\n",
       "        text-align: right;\n",
       "    }\n",
       "</style>\n",
       "<table border=\"1\" class=\"dataframe\">\n",
       "  <thead>\n",
       "    <tr style=\"text-align: right;\">\n",
       "      <th></th>\n",
       "      <th>price_today</th>\n",
       "      <th>price_tomorrow</th>\n",
       "      <th>Action</th>\n",
       "    </tr>\n",
       "    <tr>\n",
       "      <th>Date</th>\n",
       "      <th></th>\n",
       "      <th></th>\n",
       "      <th></th>\n",
       "    </tr>\n",
       "  </thead>\n",
       "  <tbody>\n",
       "    <tr>\n",
       "      <th>2020-04-09</th>\n",
       "      <td>43.130001</td>\n",
       "      <td>43.332453</td>\n",
       "      <td>BUY</td>\n",
       "    </tr>\n",
       "  </tbody>\n",
       "</table>\n",
       "</div>"
      ],
      "text/plain": [
       "            price_today  price_tomorrow Action\n",
       "Date                                          \n",
       "2020-04-09    43.130001       43.332453    BUY"
      ]
     },
     "execution_count": 36,
     "metadata": {},
     "output_type": "execute_result"
    }
   ],
   "source": [
    "def action(x):\n",
    "    \"\"\"\n",
    "    params: expected change in stock price\n",
    "    \n",
    "    Map to expected changes in the action column\n",
    "    \n",
    "    Return: \"Buy\" if expected increase, \"SELL\" if expected decrease\n",
    "    \"\"\"\n",
    "    if x>0:\n",
    "        return \"BUY\"\n",
    "    else:\n",
    "        return \"SELL\"\n",
    "    \n",
    "\n",
    "# display a dataFrame providing insight to th user\n",
    "expected_return = float(exponential_tomorrow)\n",
    "tomorrow_df = raw_data[['Adj Close']].iloc[[-1]]\n",
    "tomorrow_df.columns = ['price_today']\n",
    "tomorrow_df['price_tomorrow'] = tomorrow_df['price_today']* expected_return\n",
    "tomorrow_df['Action'] = (tomorrow_df.price_tomorrow - tomorrow_df.price_today).map(action)\n",
    "tomorrow_df"
   ]
  }
 ],
 "metadata": {
  "kernelspec": {
   "display_name": "Python 3",
   "language": "python",
   "name": "python3"
  },
  "language_info": {
   "codemirror_mode": {
    "name": "ipython",
    "version": 3
   },
   "file_extension": ".py",
   "mimetype": "text/x-python",
   "name": "python",
   "nbconvert_exporter": "python",
   "pygments_lexer": "ipython3",
   "version": "3.7.6"
  }
 },
 "nbformat": 4,
 "nbformat_minor": 4
}
