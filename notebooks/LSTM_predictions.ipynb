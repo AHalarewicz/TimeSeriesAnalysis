{
 "cells": [
  {
   "cell_type": "code",
   "execution_count": 1,
   "metadata": {},
   "outputs": [
    {
     "name": "stderr",
     "output_type": "stream",
     "text": [
      "Using TensorFlow backend.\n"
     ]
    }
   ],
   "source": [
    "import pandas as pd\n",
    "import numpy as np\n",
    "import matplotlib.pyplot as plt\n",
    "import keras as keras\n",
    "from keras.models import Sequential, load_model\n",
    "from keras.layers import Dense, LSTM\n",
    "from sklearn.preprocessing import MinMaxScaler\n",
    "from sklearn.model_selection import train_test_split"
   ]
  },
  {
   "cell_type": "markdown",
   "metadata": {},
   "source": [
    "# Define Functions"
   ]
  },
  {
   "cell_type": "code",
   "execution_count": 2,
   "metadata": {},
   "outputs": [],
   "source": [
    "def read_data(file):\n",
    "    \"\"\"\n",
    "    Read csv data from the specified file location.\n",
    "    \"\"\"\n",
    "    df = pd.read_csv(file, index_col='Date')\n",
    "    return df"
   ]
  },
  {
   "cell_type": "code",
   "execution_count": 3,
   "metadata": {},
   "outputs": [],
   "source": [
    "def clip_recent_days(df, n_days):\n",
    "    \"\"\"\n",
    "    optional\n",
    "    remove recent days from data frame\n",
    "    \"\"\"\n",
    "    return(df[:-n_days])"
   ]
  },
  {
   "cell_type": "code",
   "execution_count": 4,
   "metadata": {},
   "outputs": [],
   "source": [
    "def format_predictors_and_targets(df):\n",
    "    \n",
    "    df = df.dropna()\n",
    "    \n",
    "    predictors = df[['back_5', 'back_4', 'back_3', 'back_2', 'back_1']].values\n",
    "    assert type(predictors) is np.ndarray\n",
    "    \n",
    "    n_cols = predictors.shape[1]\n",
    "    \n",
    "    targets = df[['Adj Close']].values\n",
    "    assert type(targets) is np.ndarray\n",
    "    \n",
    "    return predictors, targets, n_cols"
   ]
  },
  {
   "cell_type": "code",
   "execution_count": null,
   "metadata": {},
   "outputs": [],
   "source": []
  },
  {
   "cell_type": "markdown",
   "metadata": {},
   "source": [
    "# Prepare Data"
   ]
  },
  {
   "cell_type": "code",
   "execution_count": 5,
   "metadata": {},
   "outputs": [],
   "source": [
    "# DEFINE DATA CONSTANTS\n",
    "TEST_SIZE = 0.05"
   ]
  },
  {
   "cell_type": "code",
   "execution_count": 6,
   "metadata": {},
   "outputs": [],
   "source": [
    "# specify location of time series data\n",
    "file_path = '../data/interim/time_series.csv'"
   ]
  },
  {
   "cell_type": "code",
   "execution_count": 7,
   "metadata": {},
   "outputs": [
    {
     "data": {
      "text/html": [
       "<div>\n",
       "<style scoped>\n",
       "    .dataframe tbody tr th:only-of-type {\n",
       "        vertical-align: middle;\n",
       "    }\n",
       "\n",
       "    .dataframe tbody tr th {\n",
       "        vertical-align: top;\n",
       "    }\n",
       "\n",
       "    .dataframe thead th {\n",
       "        text-align: right;\n",
       "    }\n",
       "</style>\n",
       "<table border=\"1\" class=\"dataframe\">\n",
       "  <thead>\n",
       "    <tr style=\"text-align: right;\">\n",
       "      <th></th>\n",
       "      <th>back_5</th>\n",
       "      <th>back_4</th>\n",
       "      <th>back_3</th>\n",
       "      <th>back_2</th>\n",
       "      <th>back_1</th>\n",
       "      <th>Adj Close</th>\n",
       "    </tr>\n",
       "    <tr>\n",
       "      <th>Date</th>\n",
       "      <th></th>\n",
       "      <th></th>\n",
       "      <th></th>\n",
       "      <th></th>\n",
       "      <th></th>\n",
       "      <th></th>\n",
       "    </tr>\n",
       "  </thead>\n",
       "  <tbody>\n",
       "    <tr>\n",
       "      <th>1962-01-02</th>\n",
       "      <td>NaN</td>\n",
       "      <td>NaN</td>\n",
       "      <td>NaN</td>\n",
       "      <td>NaN</td>\n",
       "      <td>NaN</td>\n",
       "      <td>0.014743</td>\n",
       "    </tr>\n",
       "    <tr>\n",
       "      <th>1962-01-03</th>\n",
       "      <td>NaN</td>\n",
       "      <td>NaN</td>\n",
       "      <td>NaN</td>\n",
       "      <td>NaN</td>\n",
       "      <td>0.014743</td>\n",
       "      <td>0.002435</td>\n",
       "    </tr>\n",
       "    <tr>\n",
       "      <th>1962-01-04</th>\n",
       "      <td>NaN</td>\n",
       "      <td>NaN</td>\n",
       "      <td>NaN</td>\n",
       "      <td>0.014743</td>\n",
       "      <td>0.002435</td>\n",
       "      <td>-0.022141</td>\n",
       "    </tr>\n",
       "    <tr>\n",
       "      <th>1962-01-05</th>\n",
       "      <td>NaN</td>\n",
       "      <td>NaN</td>\n",
       "      <td>0.014743</td>\n",
       "      <td>0.002435</td>\n",
       "      <td>-0.022141</td>\n",
       "      <td>-0.002490</td>\n",
       "    </tr>\n",
       "    <tr>\n",
       "      <th>1962-01-08</th>\n",
       "      <td>NaN</td>\n",
       "      <td>0.014743</td>\n",
       "      <td>0.002435</td>\n",
       "      <td>-0.022141</td>\n",
       "      <td>-0.002490</td>\n",
       "      <td>-0.002498</td>\n",
       "    </tr>\n",
       "    <tr>\n",
       "      <th>...</th>\n",
       "      <td>...</td>\n",
       "      <td>...</td>\n",
       "      <td>...</td>\n",
       "      <td>...</td>\n",
       "      <td>...</td>\n",
       "      <td>...</td>\n",
       "    </tr>\n",
       "    <tr>\n",
       "      <th>2020-04-03</th>\n",
       "      <td>0.014775</td>\n",
       "      <td>0.012455</td>\n",
       "      <td>-0.011656</td>\n",
       "      <td>0.073689</td>\n",
       "      <td>-0.029898</td>\n",
       "      <td>0.031629</td>\n",
       "    </tr>\n",
       "    <tr>\n",
       "      <th>2020-04-06</th>\n",
       "      <td>0.012455</td>\n",
       "      <td>-0.011656</td>\n",
       "      <td>0.073689</td>\n",
       "      <td>-0.029898</td>\n",
       "      <td>0.031629</td>\n",
       "      <td>0.018848</td>\n",
       "    </tr>\n",
       "    <tr>\n",
       "      <th>2020-04-07</th>\n",
       "      <td>-0.011656</td>\n",
       "      <td>0.073689</td>\n",
       "      <td>-0.029898</td>\n",
       "      <td>0.031629</td>\n",
       "      <td>0.018848</td>\n",
       "      <td>0.061366</td>\n",
       "    </tr>\n",
       "    <tr>\n",
       "      <th>2020-04-08</th>\n",
       "      <td>0.073689</td>\n",
       "      <td>-0.029898</td>\n",
       "      <td>0.031629</td>\n",
       "      <td>0.018848</td>\n",
       "      <td>0.061366</td>\n",
       "      <td>-0.016556</td>\n",
       "    </tr>\n",
       "    <tr>\n",
       "      <th>2020-04-09</th>\n",
       "      <td>-0.029898</td>\n",
       "      <td>0.031629</td>\n",
       "      <td>0.018848</td>\n",
       "      <td>0.061366</td>\n",
       "      <td>-0.016556</td>\n",
       "      <td>NaN</td>\n",
       "    </tr>\n",
       "  </tbody>\n",
       "</table>\n",
       "<p>14669 rows × 6 columns</p>\n",
       "</div>"
      ],
      "text/plain": [
       "              back_5    back_4    back_3    back_2    back_1  Adj Close\n",
       "Date                                                                   \n",
       "1962-01-02       NaN       NaN       NaN       NaN       NaN   0.014743\n",
       "1962-01-03       NaN       NaN       NaN       NaN  0.014743   0.002435\n",
       "1962-01-04       NaN       NaN       NaN  0.014743  0.002435  -0.022141\n",
       "1962-01-05       NaN       NaN  0.014743  0.002435 -0.022141  -0.002490\n",
       "1962-01-08       NaN  0.014743  0.002435 -0.022141 -0.002490  -0.002498\n",
       "...              ...       ...       ...       ...       ...        ...\n",
       "2020-04-03  0.014775  0.012455 -0.011656  0.073689 -0.029898   0.031629\n",
       "2020-04-06  0.012455 -0.011656  0.073689 -0.029898  0.031629   0.018848\n",
       "2020-04-07 -0.011656  0.073689 -0.029898  0.031629  0.018848   0.061366\n",
       "2020-04-08  0.073689 -0.029898  0.031629  0.018848  0.061366  -0.016556\n",
       "2020-04-09 -0.029898  0.031629  0.018848  0.061366 -0.016556        NaN\n",
       "\n",
       "[14669 rows x 6 columns]"
      ]
     },
     "execution_count": 7,
     "metadata": {},
     "output_type": "execute_result"
    }
   ],
   "source": [
    "# read time series data\n",
    "time_series_df = read_data(file_path)\n",
    "time_series_df"
   ]
  },
  {
   "cell_type": "code",
   "execution_count": 8,
   "metadata": {},
   "outputs": [
    {
     "name": "stdout",
     "output_type": "stream",
     "text": [
      "<class 'pandas.core.frame.DataFrame'>\n",
      "Index: 14669 entries, 1962-01-02 to 2020-04-09\n",
      "Data columns (total 6 columns):\n",
      " #   Column     Non-Null Count  Dtype  \n",
      "---  ------     --------------  -----  \n",
      " 0   back_5     14664 non-null  float64\n",
      " 1   back_4     14665 non-null  float64\n",
      " 2   back_3     14666 non-null  float64\n",
      " 3   back_2     14667 non-null  float64\n",
      " 4   back_1     14668 non-null  float64\n",
      " 5   Adj Close  14668 non-null  float64\n",
      "dtypes: float64(6)\n",
      "memory usage: 802.2+ KB\n"
     ]
    }
   ],
   "source": [
    "time_series_df.info()"
   ]
  },
  {
   "cell_type": "code",
   "execution_count": 9,
   "metadata": {},
   "outputs": [],
   "source": [
    "# call function to format predictors and targets\n",
    "#tomorrow = time_series_df.iloc[[-1]].fillna(0)\n",
    "#tomorrow, _ , _ = format_predictors_and_targets(tomorrow)\n",
    "predictors, targets, n_cols = format_predictors_and_targets(time_series_df)"
   ]
  },
  {
   "cell_type": "code",
   "execution_count": 10,
   "metadata": {},
   "outputs": [],
   "source": [
    "# scale data to range [0,1]\n",
    "X_scaler = MinMaxScaler(feature_range=(0,1))\n",
    "y_scaler = MinMaxScaler(feature_range=(0,1))\n",
    "\n",
    "predictors = X_scaler.fit_transform(predictors)\n",
    "#tomorrow = X_scaler.transform(tomorrow)\n",
    "targets = y_scaler.fit_transform(targets)"
   ]
  },
  {
   "cell_type": "code",
   "execution_count": 11,
   "metadata": {},
   "outputs": [],
   "source": [
    "# test for correct scaling\n",
    "assert min(predictors.flatten()) == 0\n",
    "assert max(predictors.flatten()) == 1\n",
    "assert min(targets.flatten()) == 0\n",
    "assert max(targets.flatten()) == 1"
   ]
  },
  {
   "cell_type": "markdown",
   "metadata": {},
   "source": [
    "**Important for Time Series Analysis:**\n",
    "\n",
    "The training set must only contain stock price data for dates prior to all of the test data.\n",
    "\n",
    "The model will be overly optimistic if it trained on future data and evaluated on previous data.\n",
    "\n",
    "\n",
    "RESULT: Random split will not work\n",
    "split needs to be sequential.\n",
    "\n",
    "\n",
    "[____________ALL_____SEQUENTIAL_______DATA______]\n",
    "\n",
    "\n",
    "[____________TRAINING    DATA_____],[___________TEST_DATA____]"
   ]
  },
  {
   "cell_type": "code",
   "execution_count": 12,
   "metadata": {},
   "outputs": [],
   "source": [
    "# split data into training set and testing set\n",
    "# SHUFFLE = FALSE\n",
    "X_train, X_test, y_train, y_test = train_test_split(predictors, targets, test_size=TEST_SIZE, shuffle=False, stratify=None, random_state=1)"
   ]
  },
  {
   "cell_type": "code",
   "execution_count": 13,
   "metadata": {},
   "outputs": [],
   "source": [
    "# test for sequential split\n",
    "assert np.argwhere(predictors == X_train[-1])[0][0] == (np.argwhere(predictors == X_test[0])[0][0]) -1\n",
    "assert np.argwhere(predictors == y_train[-1])[0][0] == (np.argwhere(predictors == y_test[0])[0][0]) -1"
   ]
  },
  {
   "cell_type": "code",
   "execution_count": 14,
   "metadata": {},
   "outputs": [
    {
     "data": {
      "text/plain": [
       "734"
      ]
     },
     "execution_count": 14,
     "metadata": {},
     "output_type": "execute_result"
    }
   ],
   "source": [
    "# how many days of stock data are in the test set?\n",
    "len(y_test)"
   ]
  },
  {
   "cell_type": "markdown",
   "metadata": {},
   "source": [
    "# Build Model"
   ]
  },
  {
   "cell_type": "code",
   "execution_count": null,
   "metadata": {},
   "outputs": [],
   "source": []
  },
  {
   "cell_type": "code",
   "execution_count": 15,
   "metadata": {},
   "outputs": [
    {
     "data": {
      "text/plain": [
       "(13929, 1, 5)"
      ]
     },
     "execution_count": 15,
     "metadata": {},
     "output_type": "execute_result"
    }
   ],
   "source": [
    "#tomorrow = np.reshape(tomorrow, (tomorrow.shape[0], 1, tomorrow.shape[1]))\n",
    "X_train = np.reshape(X_train, (X_train.shape[0], 1, X_train.shape[1]))\n",
    "X_test = np.reshape(X_test, (X_test.shape[0], 1, X_test.shape[1]))\n",
    "\n",
    "X_train.shape#, tomorrow.shape"
   ]
  },
  {
   "cell_type": "code",
   "execution_count": 16,
   "metadata": {},
   "outputs": [],
   "source": [
    "#y_train = np.reshape(y_train, (y_train.shape[0], 1, y_train.shape[1]))\n",
    "#y_test = np.reshape(y_test, (y_test.shape[0], 1, y_test.shape[1]))"
   ]
  },
  {
   "cell_type": "code",
   "execution_count": 17,
   "metadata": {},
   "outputs": [],
   "source": [
    "def build_sequential_LSTM(n_nodes, n_layers, add_dense):\n",
    "    \n",
    "    model = Sequential()\n",
    "    \n",
    "    model.add(LSTM(n_nodes, return_sequences=True, input_shape=X_train.shape[1:]))\n",
    "    \n",
    "\n",
    "    # add LSTM layers that also use nodes from the same layer\n",
    "    for i in range(n_layers-2):\n",
    "        model.add(LSTM(n_nodes, return_sequences=True))\n",
    "    \n",
    "    #return_sequences = False if next layer is not LSTM\n",
    "    model.add(LSTM(n_nodes, return_sequences=False))\n",
    "    \n",
    "    \n",
    "    if add_dense:\n",
    "        # add Fully Connected Layer\n",
    "        model.add(Dense(n_nodes, activation='relu'))\n",
    "        \n",
    "    model.add(Dense(1))\n",
    "    \n",
    "    model.compile(optimizer='adam', loss='mean_squared_error')\n",
    "    \n",
    "    return model"
   ]
  },
  {
   "cell_type": "code",
   "execution_count": 18,
   "metadata": {},
   "outputs": [],
   "source": [
    "# DEFINE MODEL CONSTANTS\n",
    "N_NODES = 100\n",
    "N_LAYERS = 4\n",
    "ADD_DENSE = True"
   ]
  },
  {
   "cell_type": "code",
   "execution_count": 19,
   "metadata": {
    "scrolled": false
   },
   "outputs": [
    {
     "name": "stdout",
     "output_type": "stream",
     "text": [
      "Model: \"sequential_1\"\n",
      "_________________________________________________________________\n",
      "Layer (type)                 Output Shape              Param #   \n",
      "=================================================================\n",
      "lstm_1 (LSTM)                (None, 1, 100)            42400     \n",
      "_________________________________________________________________\n",
      "lstm_2 (LSTM)                (None, 1, 100)            80400     \n",
      "_________________________________________________________________\n",
      "lstm_3 (LSTM)                (None, 1, 100)            80400     \n",
      "_________________________________________________________________\n",
      "lstm_4 (LSTM)                (None, 100)               80400     \n",
      "_________________________________________________________________\n",
      "dense_1 (Dense)              (None, 100)               10100     \n",
      "_________________________________________________________________\n",
      "dense_2 (Dense)              (None, 1)                 101       \n",
      "=================================================================\n",
      "Total params: 293,801\n",
      "Trainable params: 293,801\n",
      "Non-trainable params: 0\n",
      "_________________________________________________________________\n"
     ]
    }
   ],
   "source": [
    "# build Sequential Model\n",
    "model = build_sequential_LSTM(N_NODES, N_LAYERS, ADD_DENSE)\n",
    "model.summary()"
   ]
  },
  {
   "cell_type": "markdown",
   "metadata": {},
   "source": [
    "# Fit The Model"
   ]
  },
  {
   "cell_type": "code",
   "execution_count": 20,
   "metadata": {},
   "outputs": [],
   "source": [
    "# DEFINE TRAINING CONSTANTS\n",
    "EPOCHS = 1"
   ]
  },
  {
   "cell_type": "code",
   "execution_count": 21,
   "metadata": {},
   "outputs": [
    {
     "name": "stdout",
     "output_type": "stream",
     "text": [
      "Epoch 1/1\n",
      "13929/13929 [==============================] - 12s 893us/step - loss: 0.0142\n"
     ]
    },
    {
     "data": {
      "text/plain": [
       "<keras.callbacks.callbacks.History at 0x7df9fc079d10>"
      ]
     },
     "execution_count": 21,
     "metadata": {},
     "output_type": "execute_result"
    }
   ],
   "source": [
    "model.fit(X_train, y_train, epochs=EPOCHS)"
   ]
  },
  {
   "cell_type": "markdown",
   "metadata": {},
   "source": [
    "# Save The Model"
   ]
  },
  {
   "cell_type": "code",
   "execution_count": 22,
   "metadata": {},
   "outputs": [
    {
     "name": "stdout",
     "output_type": "stream",
     "text": [
      "Model: \"sequential_1\"\n",
      "_________________________________________________________________\n",
      "Layer (type)                 Output Shape              Param #   \n",
      "=================================================================\n",
      "lstm_1 (LSTM)                (None, 1, 100)            42400     \n",
      "_________________________________________________________________\n",
      "lstm_2 (LSTM)                (None, 1, 100)            80400     \n",
      "_________________________________________________________________\n",
      "lstm_3 (LSTM)                (None, 1, 100)            80400     \n",
      "_________________________________________________________________\n",
      "lstm_4 (LSTM)                (None, 100)               80400     \n",
      "_________________________________________________________________\n",
      "dense_1 (Dense)              (None, 100)               10100     \n",
      "_________________________________________________________________\n",
      "dense_2 (Dense)              (None, 1)                 101       \n",
      "=================================================================\n",
      "Total params: 293,801\n",
      "Trainable params: 293,801\n",
      "Non-trainable params: 0\n",
      "_________________________________________________________________\n"
     ]
    }
   ],
   "source": [
    "# save and load model\n",
    "model.save('../models/keras_lstm.h5')\n",
    "model = load_model('../models/keras_lstm.h5')\n",
    "\n",
    "# verify model structure\n",
    "model.summary()"
   ]
  },
  {
   "cell_type": "markdown",
   "metadata": {},
   "source": [
    "# Make predictions and interpret results"
   ]
  },
  {
   "cell_type": "code",
   "execution_count": 23,
   "metadata": {},
   "outputs": [],
   "source": [
    "# Make Predictions\n",
    "predictions = model.predict(X_test)\n",
    "#tomorrows_prediction = model.predict(tomorrow)\n",
    "#tomorrows_prediction"
   ]
  },
  {
   "cell_type": "code",
   "execution_count": 24,
   "metadata": {},
   "outputs": [
    {
     "name": "stdout",
     "output_type": "stream",
     "text": [
      "Original Prediction Range:\t [0.59022635] [0.6416572]\n",
      "Expected Range:\t\t\t [0.31631961] [0.89503638]\n"
     ]
    }
   ],
   "source": [
    "# inspect range of scaled predictions\n",
    "print(\"Original Prediction Range:\\t\", min(predictions), max(predictions))\n",
    "print(\"Expected Range:\\t\\t\\t\", min(y_test), max(y_test))"
   ]
  },
  {
   "cell_type": "code",
   "execution_count": 25,
   "metadata": {},
   "outputs": [
    {
     "name": "stdout",
     "output_type": "stream",
     "text": [
      "Unscaled Prediction Range:\t [-0.01214495] [0.01005783]\n",
      "Expected Range:\t\t\t [-0.13039097] [0.11944208]\n"
     ]
    }
   ],
   "source": [
    "# revert scaling\n",
    "#tomorrow_unscaled = y_scaler.inverse_transform(tomorrows_prediction)\n",
    "unscaled_predictions = y_scaler.inverse_transform(predictions)\n",
    "unscaled_y_test = y_scaler.inverse_transform(y_test)\n",
    "print(\"Unscaled Prediction Range:\\t\", min(unscaled_predictions), max(unscaled_predictions))\n",
    "print(\"Expected Range:\\t\\t\\t\", min(unscaled_y_test), max(unscaled_y_test))"
   ]
  },
  {
   "cell_type": "code",
   "execution_count": 26,
   "metadata": {},
   "outputs": [
    {
     "name": "stdout",
     "output_type": "stream",
     "text": [
      "Exponential Prediction Range:\t [0.9879285] [1.0101086]\n",
      "Exponential Prediction Range:\t [0.87775219] [1.12686797]\n"
     ]
    }
   ],
   "source": [
    "# apply exponential function\n",
    "#exponential_tomorrow = np.exp(tomorrow_unscaled)\n",
    "exponential_predictions = np.exp(unscaled_predictions)\n",
    "exponential_y_test = np.exp(unscaled_y_test)\n",
    "print(\"Exponential Prediction Range:\\t\", min(exponential_predictions), max(exponential_predictions))\n",
    "print(\"Exponential Prediction Range:\\t\", min(exponential_y_test), max(exponential_y_test))"
   ]
  },
  {
   "cell_type": "code",
   "execution_count": 27,
   "metadata": {},
   "outputs": [
    {
     "name": "stdout",
     "output_type": "stream",
     "text": [
      "min pred:\t 0.9879\n",
      "max pred:\t 1.0101\n",
      "mean pred:\t 1.0019\n",
      "median pred:\t 1.0021\n",
      "percentile(1.0): 99.4\n"
     ]
    }
   ],
   "source": [
    "# Inspect quality of predictions\n",
    "places = 4\n",
    "min_pred = round(float(min(exponential_predictions)), places)\n",
    "max_pred = round(float(max(exponential_predictions)), places)\n",
    "mean_pred = round(float(np.mean(exponential_predictions)), places)\n",
    "median_pred = round(float(np.median(exponential_predictions)), places)\n",
    "percentile = round(np.percentile(exponential_predictions, 1.0), places)*100\n",
    "print(\"min pred:\\t\", min_pred)\n",
    "print(\"max pred:\\t\", max_pred)\n",
    "print(\"mean pred:\\t\", mean_pred)\n",
    "print(\"median pred:\\t\", median_pred)\n",
    "print(\"percentile(1.0):\", percentile)\n",
    "\n",
    "\n",
    "is_good_model = min_pred<=1.0 and max_pred>=1.0\n",
    "assert is_good_model"
   ]
  },
  {
   "cell_type": "code",
   "execution_count": null,
   "metadata": {},
   "outputs": [],
   "source": []
  },
  {
   "cell_type": "markdown",
   "metadata": {},
   "source": [
    "# Score Model"
   ]
  },
  {
   "cell_type": "code",
   "execution_count": 28,
   "metadata": {},
   "outputs": [],
   "source": [
    "def get_accuracy(y, pred):\n",
    "    \n",
    "    #scale and shift binary results\n",
    "    # -1 -> stock went down\n",
    "    # +1 -> stock increased or stayed the same\n",
    "    y = ((y>=1)*2)-1\n",
    "    pred = ((pred>=1)*2)-1\n",
    "    \n",
    "    # stocks move in the same direction when a_i*b_i is positive\n",
    "    accuracy = (np.sum((y*pred)>=0)/len(y))*100\n",
    "    \n",
    "    print(\"Predicting change in stock price with %f%s accuracy\" % (accuracy,'%'))\n",
    "    \n",
    "    return accuracy"
   ]
  },
  {
   "cell_type": "code",
   "execution_count": 29,
   "metadata": {},
   "outputs": [
    {
     "name": "stdout",
     "output_type": "stream",
     "text": [
      "Predicting change in stock price with 50.000000% accuracy\n"
     ]
    }
   ],
   "source": [
    "accuracy = get_accuracy(exponential_y_test, exponential_predictions)"
   ]
  },
  {
   "cell_type": "markdown",
   "metadata": {},
   "source": [
    "# Visualize Predictions"
   ]
  },
  {
   "cell_type": "code",
   "execution_count": 30,
   "metadata": {},
   "outputs": [
    {
     "data": {
      "text/html": [
       "<div>\n",
       "<style scoped>\n",
       "    .dataframe tbody tr th:only-of-type {\n",
       "        vertical-align: middle;\n",
       "    }\n",
       "\n",
       "    .dataframe tbody tr th {\n",
       "        vertical-align: top;\n",
       "    }\n",
       "\n",
       "    .dataframe thead th {\n",
       "        text-align: right;\n",
       "    }\n",
       "</style>\n",
       "<table border=\"1\" class=\"dataframe\">\n",
       "  <thead>\n",
       "    <tr style=\"text-align: right;\">\n",
       "      <th></th>\n",
       "      <th>Open</th>\n",
       "      <th>High</th>\n",
       "      <th>Low</th>\n",
       "      <th>Close</th>\n",
       "      <th>Adj Close</th>\n",
       "      <th>Volume</th>\n",
       "    </tr>\n",
       "    <tr>\n",
       "      <th>Date</th>\n",
       "      <th></th>\n",
       "      <th></th>\n",
       "      <th></th>\n",
       "      <th></th>\n",
       "      <th></th>\n",
       "      <th></th>\n",
       "    </tr>\n",
       "  </thead>\n",
       "  <tbody>\n",
       "    <tr>\n",
       "      <th>1962-01-02</th>\n",
       "      <td>0.000000</td>\n",
       "      <td>1.589844</td>\n",
       "      <td>1.578125</td>\n",
       "      <td>1.578125</td>\n",
       "      <td>0.013913</td>\n",
       "      <td>902400</td>\n",
       "    </tr>\n",
       "    <tr>\n",
       "      <th>1962-01-03</th>\n",
       "      <td>0.000000</td>\n",
       "      <td>1.601562</td>\n",
       "      <td>1.578125</td>\n",
       "      <td>1.601562</td>\n",
       "      <td>0.014120</td>\n",
       "      <td>1200000</td>\n",
       "    </tr>\n",
       "    <tr>\n",
       "      <th>1962-01-04</th>\n",
       "      <td>0.000000</td>\n",
       "      <td>1.613281</td>\n",
       "      <td>1.597656</td>\n",
       "      <td>1.605469</td>\n",
       "      <td>0.014154</td>\n",
       "      <td>1088000</td>\n",
       "    </tr>\n",
       "    <tr>\n",
       "      <th>1962-01-05</th>\n",
       "      <td>0.000000</td>\n",
       "      <td>1.613281</td>\n",
       "      <td>1.566406</td>\n",
       "      <td>1.570312</td>\n",
       "      <td>0.013844</td>\n",
       "      <td>1222400</td>\n",
       "    </tr>\n",
       "    <tr>\n",
       "      <th>1962-01-08</th>\n",
       "      <td>0.000000</td>\n",
       "      <td>1.582031</td>\n",
       "      <td>1.546875</td>\n",
       "      <td>1.566406</td>\n",
       "      <td>0.013810</td>\n",
       "      <td>1388800</td>\n",
       "    </tr>\n",
       "    <tr>\n",
       "      <th>...</th>\n",
       "      <td>...</td>\n",
       "      <td>...</td>\n",
       "      <td>...</td>\n",
       "      <td>...</td>\n",
       "      <td>...</td>\n",
       "      <td>...</td>\n",
       "    </tr>\n",
       "    <tr>\n",
       "      <th>2020-04-03</th>\n",
       "      <td>41.450001</td>\n",
       "      <td>42.180000</td>\n",
       "      <td>38.520000</td>\n",
       "      <td>39.209999</td>\n",
       "      <td>39.209999</td>\n",
       "      <td>48425700</td>\n",
       "    </tr>\n",
       "    <tr>\n",
       "      <th>2020-04-06</th>\n",
       "      <td>39.880001</td>\n",
       "      <td>40.830002</td>\n",
       "      <td>39.230000</td>\n",
       "      <td>40.470001</td>\n",
       "      <td>40.470001</td>\n",
       "      <td>41301900</td>\n",
       "    </tr>\n",
       "    <tr>\n",
       "      <th>2020-04-07</th>\n",
       "      <td>42.900002</td>\n",
       "      <td>43.320000</td>\n",
       "      <td>41.160000</td>\n",
       "      <td>41.240002</td>\n",
       "      <td>41.240002</td>\n",
       "      <td>48921800</td>\n",
       "    </tr>\n",
       "    <tr>\n",
       "      <th>2020-04-08</th>\n",
       "      <td>41.950001</td>\n",
       "      <td>44.040001</td>\n",
       "      <td>41.470001</td>\n",
       "      <td>43.849998</td>\n",
       "      <td>43.849998</td>\n",
       "      <td>33355600</td>\n",
       "    </tr>\n",
       "    <tr>\n",
       "      <th>2020-04-09</th>\n",
       "      <td>45.459999</td>\n",
       "      <td>46.709999</td>\n",
       "      <td>41.740002</td>\n",
       "      <td>43.130001</td>\n",
       "      <td>43.130001</td>\n",
       "      <td>60208100</td>\n",
       "    </tr>\n",
       "  </tbody>\n",
       "</table>\n",
       "<p>14669 rows × 6 columns</p>\n",
       "</div>"
      ],
      "text/plain": [
       "                 Open       High        Low      Close  Adj Close    Volume\n",
       "Date                                                                       \n",
       "1962-01-02   0.000000   1.589844   1.578125   1.578125   0.013913    902400\n",
       "1962-01-03   0.000000   1.601562   1.578125   1.601562   0.014120   1200000\n",
       "1962-01-04   0.000000   1.613281   1.597656   1.605469   0.014154   1088000\n",
       "1962-01-05   0.000000   1.613281   1.566406   1.570312   0.013844   1222400\n",
       "1962-01-08   0.000000   1.582031   1.546875   1.566406   0.013810   1388800\n",
       "...               ...        ...        ...        ...        ...       ...\n",
       "2020-04-03  41.450001  42.180000  38.520000  39.209999  39.209999  48425700\n",
       "2020-04-06  39.880001  40.830002  39.230000  40.470001  40.470001  41301900\n",
       "2020-04-07  42.900002  43.320000  41.160000  41.240002  41.240002  48921800\n",
       "2020-04-08  41.950001  44.040001  41.470001  43.849998  43.849998  33355600\n",
       "2020-04-09  45.459999  46.709999  41.740002  43.130001  43.130001  60208100\n",
       "\n",
       "[14669 rows x 6 columns]"
      ]
     },
     "execution_count": 30,
     "metadata": {},
     "output_type": "execute_result"
    }
   ],
   "source": [
    "# read data with Adj Close Price\n",
    "raw_data = pd.read_csv('../data/raw/raw.csv', index_col=['Date'])\n",
    "raw_data"
   ]
  },
  {
   "cell_type": "code",
   "execution_count": 31,
   "metadata": {},
   "outputs": [
    {
     "name": "stderr",
     "output_type": "stream",
     "text": [
      "/home/alhalarewicz/anaconda3/envs/TimeSeries/lib/python3.7/site-packages/pandas/core/computation/expressions.py:178: UserWarning: evaluating in Python space because the '*' operator is not supported by numexpr for the bool dtype, use '&' instead\n",
      "  f\"evaluating in Python space because the {repr(op_str)} \"\n",
      "/home/alhalarewicz/anaconda3/envs/TimeSeries/lib/python3.7/site-packages/pandas/core/computation/expressions.py:178: UserWarning: evaluating in Python space because the '+' operator is not supported by numexpr for the bool dtype, use '|' instead\n",
      "  f\"evaluating in Python space because the {repr(op_str)} \"\n"
     ]
    },
    {
     "data": {
      "text/html": [
       "<div>\n",
       "<style scoped>\n",
       "    .dataframe tbody tr th:only-of-type {\n",
       "        vertical-align: middle;\n",
       "    }\n",
       "\n",
       "    .dataframe tbody tr th {\n",
       "        vertical-align: top;\n",
       "    }\n",
       "\n",
       "    .dataframe thead th {\n",
       "        text-align: right;\n",
       "    }\n",
       "</style>\n",
       "<table border=\"1\" class=\"dataframe\">\n",
       "  <thead>\n",
       "    <tr style=\"text-align: right;\">\n",
       "      <th></th>\n",
       "      <th>price</th>\n",
       "      <th>exponential_prediction</th>\n",
       "      <th>actual_return</th>\n",
       "      <th>predicted_price</th>\n",
       "      <th>expected_change</th>\n",
       "      <th>correct_prediction</th>\n",
       "      <th>color</th>\n",
       "    </tr>\n",
       "    <tr>\n",
       "      <th>Date</th>\n",
       "      <th></th>\n",
       "      <th></th>\n",
       "      <th></th>\n",
       "      <th></th>\n",
       "      <th></th>\n",
       "      <th></th>\n",
       "      <th></th>\n",
       "    </tr>\n",
       "  </thead>\n",
       "  <tbody>\n",
       "    <tr>\n",
       "      <th>2017-05-10</th>\n",
       "      <td>72.611153</td>\n",
       "      <td>1.002148</td>\n",
       "      <td>1.008546</td>\n",
       "      <td>72.767115</td>\n",
       "      <td>0.155962</td>\n",
       "      <td>True</td>\n",
       "      <td>green</td>\n",
       "    </tr>\n",
       "    <tr>\n",
       "      <th>2017-05-11</th>\n",
       "      <td>73.231689</td>\n",
       "      <td>1.003027</td>\n",
       "      <td>0.999274</td>\n",
       "      <td>73.453376</td>\n",
       "      <td>0.221687</td>\n",
       "      <td>False</td>\n",
       "      <td>red</td>\n",
       "    </tr>\n",
       "    <tr>\n",
       "      <th>2017-05-12</th>\n",
       "      <td>73.178505</td>\n",
       "      <td>1.002654</td>\n",
       "      <td>1.003028</td>\n",
       "      <td>73.372709</td>\n",
       "      <td>0.194204</td>\n",
       "      <td>True</td>\n",
       "      <td>green</td>\n",
       "    </tr>\n",
       "    <tr>\n",
       "      <th>2017-05-15</th>\n",
       "      <td>73.400116</td>\n",
       "      <td>1.002494</td>\n",
       "      <td>0.996981</td>\n",
       "      <td>73.583200</td>\n",
       "      <td>0.183084</td>\n",
       "      <td>False</td>\n",
       "      <td>red</td>\n",
       "    </tr>\n",
       "    <tr>\n",
       "      <th>2017-05-16</th>\n",
       "      <td>73.178505</td>\n",
       "      <td>1.002627</td>\n",
       "      <td>0.993216</td>\n",
       "      <td>73.370711</td>\n",
       "      <td>0.192206</td>\n",
       "      <td>False</td>\n",
       "      <td>red</td>\n",
       "    </tr>\n",
       "    <tr>\n",
       "      <th>...</th>\n",
       "      <td>...</td>\n",
       "      <td>...</td>\n",
       "      <td>...</td>\n",
       "      <td>...</td>\n",
       "      <td>...</td>\n",
       "      <td>...</td>\n",
       "      <td>...</td>\n",
       "    </tr>\n",
       "    <tr>\n",
       "      <th>2020-04-02</th>\n",
       "      <td>40.400002</td>\n",
       "      <td>1.004201</td>\n",
       "      <td>0.970544</td>\n",
       "      <td>40.569705</td>\n",
       "      <td>0.169703</td>\n",
       "      <td>False</td>\n",
       "      <td>red</td>\n",
       "    </tr>\n",
       "    <tr>\n",
       "      <th>2020-04-03</th>\n",
       "      <td>39.209999</td>\n",
       "      <td>1.004590</td>\n",
       "      <td>1.032135</td>\n",
       "      <td>39.389956</td>\n",
       "      <td>0.179957</td>\n",
       "      <td>True</td>\n",
       "      <td>green</td>\n",
       "    </tr>\n",
       "    <tr>\n",
       "      <th>2020-04-06</th>\n",
       "      <td>40.470001</td>\n",
       "      <td>1.005577</td>\n",
       "      <td>1.019026</td>\n",
       "      <td>40.695716</td>\n",
       "      <td>0.225714</td>\n",
       "      <td>True</td>\n",
       "      <td>green</td>\n",
       "    </tr>\n",
       "    <tr>\n",
       "      <th>2020-04-07</th>\n",
       "      <td>41.240002</td>\n",
       "      <td>1.006217</td>\n",
       "      <td>1.063288</td>\n",
       "      <td>41.496381</td>\n",
       "      <td>0.256379</td>\n",
       "      <td>True</td>\n",
       "      <td>green</td>\n",
       "    </tr>\n",
       "    <tr>\n",
       "      <th>2020-04-08</th>\n",
       "      <td>43.849998</td>\n",
       "      <td>1.008646</td>\n",
       "      <td>0.983580</td>\n",
       "      <td>44.229126</td>\n",
       "      <td>0.379128</td>\n",
       "      <td>False</td>\n",
       "      <td>red</td>\n",
       "    </tr>\n",
       "  </tbody>\n",
       "</table>\n",
       "<p>734 rows × 7 columns</p>\n",
       "</div>"
      ],
      "text/plain": [
       "                price  exponential_prediction  actual_return  predicted_price  \\\n",
       "Date                                                                            \n",
       "2017-05-10  72.611153                1.002148       1.008546        72.767115   \n",
       "2017-05-11  73.231689                1.003027       0.999274        73.453376   \n",
       "2017-05-12  73.178505                1.002654       1.003028        73.372709   \n",
       "2017-05-15  73.400116                1.002494       0.996981        73.583200   \n",
       "2017-05-16  73.178505                1.002627       0.993216        73.370711   \n",
       "...               ...                     ...            ...              ...   \n",
       "2020-04-02  40.400002                1.004201       0.970544        40.569705   \n",
       "2020-04-03  39.209999                1.004590       1.032135        39.389956   \n",
       "2020-04-06  40.470001                1.005577       1.019026        40.695716   \n",
       "2020-04-07  41.240002                1.006217       1.063288        41.496381   \n",
       "2020-04-08  43.849998                1.008646       0.983580        44.229126   \n",
       "\n",
       "            expected_change  correct_prediction  color  \n",
       "Date                                                    \n",
       "2017-05-10         0.155962                True  green  \n",
       "2017-05-11         0.221687               False    red  \n",
       "2017-05-12         0.194204                True  green  \n",
       "2017-05-15         0.183084               False    red  \n",
       "2017-05-16         0.192206               False    red  \n",
       "...                     ...                 ...    ...  \n",
       "2020-04-02         0.169703               False    red  \n",
       "2020-04-03         0.179957                True  green  \n",
       "2020-04-06         0.225714                True  green  \n",
       "2020-04-07         0.256379                True  green  \n",
       "2020-04-08         0.379128               False    red  \n",
       "\n",
       "[734 rows x 7 columns]"
      ]
     },
     "execution_count": 31,
     "metadata": {},
     "output_type": "execute_result"
    }
   ],
   "source": [
    "# Create DataFrame to Hold vizualization data\n",
    "viz_df = raw_data[['Adj Close']]\n",
    "viz_df.columns = ['price']\n",
    "viz_df\n",
    "\n",
    "\n",
    "viz_df = viz_df.dropna()\n",
    "viz_df = viz_df.iloc[len(X_train)+5:-1]\n",
    "\n",
    "\n",
    "predictions_df = pd.DataFrame(exponential_predictions)\n",
    "predictions_df['actual_return'] = exponential_y_test\n",
    "predictions_df.index = viz_df.index\n",
    "predictions_df.columns = ['exp_preds', 'actual_return']\n",
    "predictions_df\n",
    "\n",
    "viz_df['exponential_prediction'] = predictions_df.exp_preds\n",
    "viz_df['actual_return'] = predictions_df.actual_return\n",
    "\n",
    "viz_df['predicted_price'] = viz_df.price * viz_df.exponential_prediction\n",
    "\n",
    "viz_df['expected_change'] = viz_df.predicted_price - viz_df.price\n",
    "viz_df['correct_prediction'] = ((viz_df.exponential_prediction>=1.0) * (viz_df.actual_return>=1.0)) + ((viz_df.exponential_prediction<1.0) * (viz_df.actual_return<1.0))\n",
    "viz_df['color'] = viz_df.correct_prediction.map({True:'green', False:'red'})\n",
    "viz_df"
   ]
  },
  {
   "cell_type": "code",
   "execution_count": 32,
   "metadata": {},
   "outputs": [],
   "source": [
    "viz_df1 = viz_df.loc['2019-01-01':'2019-01-31']\n"
   ]
  },
  {
   "cell_type": "code",
   "execution_count": 33,
   "metadata": {},
   "outputs": [
    {
     "data": {
      "image/png": "[encoded data removed]",
      "text/plain": [
       "<Figure size 1080x1080 with 1 Axes>"
      ]
     },
     "metadata": {
      "needs_background": "light"
     },
     "output_type": "display_data"
    }
   ],
   "source": [
    "_ = plt.figure(figsize=(15,15))\n",
    "_ = plt.plot(viz_df1['price'], marker='.', alpha=0.9)\n",
    "_ = plt.plot(viz_df1['predicted_price'], marker='.', alpha=0.75)\n",
    "_ = plt.legend(['Actual Price', 'Predictions'])\n",
    "_ = plt.xticks(rotation=90)\n",
    "plt.show()"
   ]
  },
  {
   "cell_type": "code",
   "execution_count": 34,
   "metadata": {},
   "outputs": [],
   "source": [
    "xi = list(viz_df1.index)\n",
    "yi = [pt for pt in viz_df1['price']]\n",
    "yf = [pt for pt in viz_df1['predicted_price']]\n",
    "delta = list(viz_df1.expected_change)\n",
    "color = list(viz_df1.color)\n",
    "#for pt in viz_df1['price']:\n",
    "    #yi.append(pt)\n",
    "#for pt in viz_df1['predicted_price']:\n",
    "    #yf.append(pt)"
   ]
  },
  {
   "cell_type": "code",
   "execution_count": 35,
   "metadata": {},
   "outputs": [
    {
     "data": {
      "image/png": "[encoded data removed]",
      "text/plain": [
       "<Figure size 720x504 with 1 Axes>"
      ]
     },
     "metadata": {
      "needs_background": "light"
     },
     "output_type": "display_data"
    }
   ],
   "source": [
    "_ = plt.figure(figsize=(10,7))\n",
    "_ = plt.plot(viz_df1['price'], marker='.', alpha=0.9)\n",
    "#_ = plt.plot(viz_df1['predicted_price'], marker='.', alpha=0.75, linestyle='None')\n",
    "_ = plt.legend(['Actual Price', 'Predictions'])\n",
    "_ = plt.xticks(rotation=90)\n",
    "\n",
    "#_ = plt.arrow(xi[0], yi[0],0, delta[0], head_width=0.1, head_length=0.1, color=color[0])\n",
    "for i in range(len(xi)):\n",
    "    _ = plt.arrow(xi[i], yi[i],0.25, delta[i], head_width=0.1, head_length=0.1, color=color[i])\n",
    "plt.show()"
   ]
  },
  {
   "cell_type": "markdown",
   "metadata": {},
   "source": [
    "# Tomorrow's prediction"
   ]
  },
  {
   "cell_type": "code",
   "execution_count": 36,
   "metadata": {},
   "outputs": [
    {
     "ename": "NameError",
     "evalue": "name 'exponential_tomorrow' is not defined",
     "output_type": "error",
     "traceback": [
      "\u001b[0;31m---------------------------------------------------------------------------\u001b[0m",
      "\u001b[0;31mNameError\u001b[0m                                 Traceback (most recent call last)",
      "\u001b[0;32m<ipython-input-36-c32ab71c1d74>\u001b[0m in \u001b[0;36m<module>\u001b[0;34m\u001b[0m\n\u001b[0;32m----> 1\u001b[0;31m \u001b[0mexpected_return\u001b[0m \u001b[0;34m=\u001b[0m \u001b[0mfloat\u001b[0m\u001b[0;34m(\u001b[0m\u001b[0mexponential_tomorrow\u001b[0m\u001b[0;34m)\u001b[0m\u001b[0;34m\u001b[0m\u001b[0;34m\u001b[0m\u001b[0m\n\u001b[0m\u001b[1;32m      2\u001b[0m \u001b[0mtomorrow_df\u001b[0m\u001b[0;34m[\u001b[0m\u001b[0;34m'price_today'\u001b[0m\u001b[0;34m]\u001b[0m \u001b[0;34m=\u001b[0m \u001b[0mraw_data\u001b[0m\u001b[0;34m[\u001b[0m\u001b[0;34m[\u001b[0m\u001b[0;34m'Adj Close'\u001b[0m\u001b[0;34m]\u001b[0m\u001b[0;34m]\u001b[0m\u001b[0;34m.\u001b[0m\u001b[0miloc\u001b[0m\u001b[0;34m[\u001b[0m\u001b[0;34m[\u001b[0m\u001b[0;34m-\u001b[0m\u001b[0;36m1\u001b[0m\u001b[0;34m]\u001b[0m\u001b[0;34m]\u001b[0m\u001b[0;34m\u001b[0m\u001b[0;34m\u001b[0m\u001b[0m\n\u001b[1;32m      3\u001b[0m \u001b[0mtomorrow_df\u001b[0m\u001b[0;34m[\u001b[0m\u001b[0;34m'price_tomorrow'\u001b[0m\u001b[0;34m]\u001b[0m \u001b[0;34m=\u001b[0m \u001b[0mtomorrow_df\u001b[0m\u001b[0;34m[\u001b[0m\u001b[0;34m'price_today'\u001b[0m\u001b[0;34m]\u001b[0m\u001b[0;34m*\u001b[0m \u001b[0mexpected_return\u001b[0m\u001b[0;34m\u001b[0m\u001b[0;34m\u001b[0m\u001b[0m\n\u001b[1;32m      4\u001b[0m \u001b[0mtomorrow_df\u001b[0m\u001b[0;34m\u001b[0m\u001b[0;34m\u001b[0m\u001b[0m\n",
      "\u001b[0;31mNameError\u001b[0m: name 'exponential_tomorrow' is not defined"
     ]
    }
   ],
   "source": [
    "expected_return = float(exponential_tomorrow)\n",
    "tomorrow_df['price_today'] = raw_data[['Adj Close']].iloc[[-1]]\n",
    "tomorrow_df['price_tomorrow'] = tomorrow_df['price_today']* expected_return\n",
    "tomorrow_df"
   ]
  },
  {
   "cell_type": "code",
   "execution_count": null,
   "metadata": {},
   "outputs": [],
   "source": []
  }
 ],
 "metadata": {
  "kernelspec": {
   "display_name": "Python 3",
   "language": "python",
   "name": "python3"
  },
  "language_info": {
   "codemirror_mode": {
    "name": "ipython",
    "version": 3
   },
   "file_extension": ".py",
   "mimetype": "text/x-python",
   "name": "python",
   "nbconvert_exporter": "python",
   "pygments_lexer": "ipython3",
   "version": "3.7.6"
  }
 },
 "nbformat": 4,
 "nbformat_minor": 4
}
